{
  "cells": [
    {
      "cell_type": "markdown",
      "metadata": {
        "id": "view-in-github",
        "colab_type": "text"
      },
      "source": [
        "<a href=\"https://colab.research.google.com/github/makemebright/Machine-Learning/blob/main/ML_pet_proj2.ipynb\" target=\"_parent\"><img src=\"https://colab.research.google.com/assets/colab-badge.svg\" alt=\"Open In Colab\"/></a>"
      ]
    },
    {
      "cell_type": "markdown",
      "metadata": {
        "id": "dXIA0PoDf3sq"
      },
      "source": [
        "\n",
        "### Тема: Основы работы с искусственными нейронными сетями\n",
        "\n"
      ]
    },
    {
      "cell_type": "markdown",
      "metadata": {
        "id": "d1DJcTbof3ss"
      },
      "source": [
        "### Выполнил: <font color='red'>Иконников Марк Игоревич, МФТИ, ФПМИ Б05-206в</font>\n",
        "\n",
        "\n"
      ]
    },
    {
      "cell_type": "markdown",
      "metadata": {
        "id": "sXJ-cLnpf3su"
      },
      "source": [
        "Для выполнения задания загрузим набор данных для задачи multi-label классификации текстов EURLex (только английскую часть) следующим кодом:"
      ]
    },
    {
      "cell_type": "code",
      "execution_count": null,
      "metadata": {
        "colab": {
          "base_uri": "https://localhost:8080/",
          "height": 452,
          "referenced_widgets": [
            "0772b9e439cc4c5b8fcf03c306f114a0",
            "98567802e102475585b7437385c79c62",
            "df3125c304f94679a5db5d057eb82390",
            "fd3b91e38a0849048b39037c2622ce52",
            "796eb428644b4d4ca1543edf0473f2ca",
            "4aa8a29883bc49e9a8e515ade8a805b2",
            "24472cc86daa405f8ef96763e6224e88",
            "db75096a8e414c98bcf664ee1fbabc57",
            "a252dacf793749a5bfba57a475d96bb5",
            "d42a38aea7c04976a9c75728b409ab13",
            "5ff5fc5a28624285b2b7b4b6b0b2e157",
            "b690d7305d4146a59d6ca3a2b6a7e725",
            "8774fbc53ed843d2a7da265112b120cb",
            "e90e67fe39ce4c5fa80fd10bf232a05b",
            "d8c240e082a04bb195331dd4c09994b8",
            "ea721008ee1c486a9dda8a9e6a795ca1",
            "a8c7262a95674024a718b4cddf8ed984",
            "8d65f7b57bb748fa8b8aeef8356bc7f8",
            "088db1ba8e4b40d387d0d1149d980cd5",
            "c1dfe4e43e2747e597beb280f1c31e59",
            "fb780b7ea7a34674b04f8a4f24d7f635",
            "4869dc14032b4c0fa672f1b59ac68c4b",
            "eb020e67cd9f4d95b4240b00f5ceef35",
            "6d9c01ace87a46ff9ff71aeb583c3ae9",
            "5afccf0b132949afb6bcd7c765580cd3",
            "b8766674d0b04722a4d07447cb19325a",
            "c1f5c87efbb3424b800d1fc8435d2994",
            "02bc2274c9e4446b8d4c0f25e55db75a",
            "d2de99a5bdd04cfa839b6c649e22d983",
            "7eea3345d96e480baf468165aa9ec469",
            "9d5ede502c11421d878554513a0231ce",
            "488a74dccd4c48fdad019226a25a28be",
            "8a1c9ffb51454e7c84af816b60d57763",
            "a080bd86eb2a4aa890d3e135bc3eb814",
            "2750c0dc1d58499ba94bdc8517b45f13",
            "8ac00932af8146f8a082f7830b15716b",
            "b0f6164fef5940ce9295687f1991c2ac",
            "b17b1bb5f02d4b7aa2b99a8bf0bd9e71",
            "03ee9d59a83448d8819f1608c0f55249",
            "32db743012a44169a7f041f715effb32",
            "2da7c5e2d361475a8e92a79f07f59d0f",
            "00efcb66cd3648c7a3738371e95546bc",
            "0bc7f38c09944d5a88f0c4ef0e64925a",
            "195ae83c46a948bb9cbd25e003dbc213",
            "9d3c5f90f11d4d89adf797bce5d08afe",
            "35e7356dd1254cf8aa5b8ab3a11a5bdc",
            "dd5a3ecacc7a4fcaa04d35cd952be0b1",
            "cecdbe579bcc4568b66a6e344bc63f74",
            "1a69fb9188bd43f4a92f64ee4a543cb4",
            "9a67d762b2584f9bafb7d0f3d6098dd1",
            "3d22b61c49ec400b9190588ad055db44",
            "f13de7dd9c05490fa52e3eadaa298883",
            "ec0d29f137e94a1090492a8ea04fe002",
            "d2e9b5bb5f324c159aa12a845fa0dfb7",
            "3b5aa0436f0e4cda9e33f5a94c79aa28",
            "1736bc0f54804369b9741d3f0e574550",
            "55c6572e3e41474f811a8eb34d97f4bf",
            "a8abdef56aa04e54aeef3b66f4e8e853",
            "cd1d3fc9cf504659abd06816ceddb9f2",
            "9ad35556b708474fbad1f6b509a601cb",
            "655326c91a5946c2ad23ae892c7a224f",
            "c7d4b80d2aea406993180de8967e1e13",
            "5d0e5f6b4c374de095e00200c1babfe5",
            "7669d742b9cd4e50a2a35300ae7e2f8b",
            "9aa313acef93486b8d09c766b84edcc5",
            "5f7d117755d34e69b852fa6f1be2cb1c"
          ]
        },
        "id": "c5t1-5A1f3su",
        "outputId": "175b916b-0eeb-4bd1-8985-99877b891f95",
        "scrolled": true
      },
      "outputs": [
        {
          "name": "stderr",
          "output_type": "stream",
          "text": [
            "C:\\Users\\mrkik\\anaconda3\\envs\\tf-gpu\\lib\\site-packages\\tqdm\\auto.py:21: TqdmWarning: IProgress not found. Please update jupyter and ipywidgets. See https://ipywidgets.readthedocs.io/en/stable/user_install.html\n",
            "  from .autonotebook import tqdm as notebook_tqdm\n",
            "Reusing dataset multi_eurlex (C:\\Users\\mrkik\\.cache\\huggingface\\datasets\\multi_eurlex\\en\\1.0.0\\8ec8b79877a517369a143ead6679d1788d13e51cf641ed29772f4449e8364fb6)\n",
            "100%|████████████████████████████████████████████████████████████████████████████████████████████████████████████████████████| 3/3 [00:00<00:00, 16.32it/s]\n"
          ]
        }
      ],
      "source": [
        "from datasets import load_dataset\n",
        "dataset = load_dataset('multi_eurlex', 'en')"
      ]
    },
    {
      "cell_type": "markdown",
      "metadata": {
        "id": "Xgs1dTRXf3sw"
      },
      "source": [
        "Самый простой способ выучить модель классификации - использовать лог-регрессию на сжатых плотных векторах документов. Для этого нужно выполнить ряд подзадач.\n",
        "\n",
        "Преобразовать данные в векторный вид с помощью `CountVectorizer` и `TruncatedSVD`:"
      ]
    },
    {
      "cell_type": "code",
      "execution_count": null,
      "metadata": {
        "id": "Yfa7odAdf3sw",
        "outputId": "c9800096-441b-4e31-affc-680fb3ddd67b"
      },
      "outputs": [
        {
          "name": "stdout",
          "output_type": "stream",
          "text": [
            "Python 3.9.18\n"
          ]
        }
      ],
      "source": [
        "!python -V"
      ]
    },
    {
      "cell_type": "code",
      "execution_count": null,
      "metadata": {
        "id": "DFFeGBvFf3sx",
        "outputId": "0ccebc72-9842-4fda-fd3e-3b0f942423e1"
      },
      "outputs": [
        {
          "name": "stdout",
          "output_type": "stream",
          "text": [
            "Python 3.10.11\n"
          ]
        }
      ],
      "source": [
        "!python3 --version"
      ]
    },
    {
      "cell_type": "code",
      "execution_count": null,
      "metadata": {
        "id": "csM7WRrwf3sx",
        "outputId": "9d96f8d3-ff6d-431e-c19c-7c6fe2263ce1"
      },
      "outputs": [
        {
          "data": {
            "text/plain": [
              "'C:\\\\Users\\\\mrkik\\\\anaconda3\\\\envs\\\\tf-gpu\\\\python.exe'"
            ]
          },
          "execution_count": 1,
          "metadata": {},
          "output_type": "execute_result"
        }
      ],
      "source": [
        "import sys\n",
        "sys.executable"
      ]
    },
    {
      "cell_type": "code",
      "execution_count": null,
      "metadata": {
        "id": "9vV-4gJrf3sy",
        "outputId": "a77a50ee-89dd-4c9d-cd49-9aee0b351b40"
      },
      "outputs": [
        {
          "data": {
            "text/plain": [
              "True"
            ]
          },
          "execution_count": 2,
          "metadata": {},
          "output_type": "execute_result"
        }
      ],
      "source": [
        "import torch\n",
        "import torch.nn as nn\n",
        "torch.cuda.is_available()"
      ]
    },
    {
      "cell_type": "code",
      "execution_count": null,
      "metadata": {
        "id": "BMdynyi3f3sz",
        "outputId": "c1d9df09-35bd-46a0-b1cd-2e221ba0d3c1"
      },
      "outputs": [
        {
          "data": {
            "text/plain": [
              "'1.20.3'"
            ]
          },
          "execution_count": 3,
          "metadata": {},
          "output_type": "execute_result"
        }
      ],
      "source": [
        "import numpy\n",
        "numpy.version.version"
      ]
    },
    {
      "cell_type": "code",
      "execution_count": null,
      "metadata": {
        "id": "Sqz5447-f3sz",
        "outputId": "2e96486d-8d19-45b9-a93a-7e16343ab361"
      },
      "outputs": [
        {
          "name": "stdout",
          "output_type": "stream",
          "text": [
            "WARNING:tensorflow:From C:\\Users\\mrkik\\AppData\\Local\\Temp\\ipykernel_5916\\3326022288.py:2: is_gpu_available (from tensorflow.python.framework.test_util) is deprecated and will be removed in a future version.\n",
            "Instructions for updating:\n",
            "Use `tf.config.list_physical_devices('GPU')` instead.\n"
          ]
        },
        {
          "data": {
            "text/plain": [
              "True"
            ]
          },
          "execution_count": 4,
          "metadata": {},
          "output_type": "execute_result"
        }
      ],
      "source": [
        "import tensorflow as tf\n",
        "tf.test.is_gpu_available()"
      ]
    },
    {
      "cell_type": "code",
      "execution_count": null,
      "metadata": {
        "id": "fWXO1ujgf3s0"
      },
      "outputs": [],
      "source": [
        "from sklearn.feature_extraction.text import CountVectorizer\n",
        "from sklearn.decomposition import TruncatedSVD\n",
        "from sklearn.preprocessing import StandardScaler"
      ]
    },
    {
      "cell_type": "markdown",
      "metadata": {
        "id": "27l8J3lqf3s0"
      },
      "source": [
        "Преобразуем данные в сжатые эмбеддинги размерности 100"
      ]
    },
    {
      "cell_type": "code",
      "execution_count": null,
      "metadata": {
        "id": "A9p09vsmf3s0",
        "outputId": "dcd27102-d95e-4ed8-f7cd-37f36f38a7c1"
      },
      "outputs": [
        {
          "name": "stdout",
          "output_type": "stream",
          "text": [
            "CPU times: total: 55.5 s\n",
            "Wall time: 59.1 s\n"
          ]
        }
      ],
      "source": [
        "%%time\n",
        "\n",
        "texts_train = dataset['train']['text']\n",
        "texts_valid = dataset['validation']['text']\n",
        "texts_test = dataset['test']['text']\n",
        "\n",
        "vectorizer = CountVectorizer()\n",
        "X_train_counts = vectorizer.fit_transform(texts_train)\n",
        "X_valid_counts = vectorizer.transform(texts_valid)\n",
        "X_test_counts = vectorizer.transform(texts_test)\n",
        "\n",
        "svd = TruncatedSVD(n_components=100)\n",
        "X_train = svd.fit_transform(X_train_counts)\n",
        "X_valid = svd.transform(X_valid_counts)\n",
        "X_test = svd.transform(X_test_counts)"
      ]
    },
    {
      "cell_type": "markdown",
      "metadata": {
        "id": "C5MLERMaf3s1"
      },
      "source": [
        "Конвертируем метки классов в вид бинарной матрицы с размером \"число объектов\" на \"число классов\":"
      ]
    },
    {
      "cell_type": "code",
      "execution_count": null,
      "metadata": {
        "id": "DQ4xlkMif3s1"
      },
      "outputs": [],
      "source": [
        "from sklearn.preprocessing import MultiLabelBinarizer"
      ]
    },
    {
      "cell_type": "code",
      "execution_count": null,
      "metadata": {
        "colab": {
          "base_uri": "https://localhost:8080/"
        },
        "id": "iUTqqWO3f3s1",
        "outputId": "116d7578-4798-40a5-c6b2-160cc32b284a"
      },
      "outputs": [
        {
          "name": "stdout",
          "output_type": "stream",
          "text": [
            "CPU times: total: 93.8 ms\n",
            "Wall time: 262 ms\n"
          ]
        }
      ],
      "source": [
        "%%time\n",
        "# your code here\n",
        "\n",
        "mlb = MultiLabelBinarizer()\n",
        "y_train = mlb.fit_transform(dataset['train']['labels'])\n",
        "y_valid = mlb.transform(dataset['validation']['labels'])\n",
        "y_test = mlb.transform(dataset['test']['labels'])"
      ]
    },
    {
      "cell_type": "markdown",
      "metadata": {
        "id": "st_DyXglf3s2"
      },
      "source": [
        "Обучим мета-модель на основе лог-регрессии с помощью `MultiOutputClassifier`:"
      ]
    },
    {
      "cell_type": "code",
      "execution_count": null,
      "metadata": {
        "id": "yQR4uJN9f3s2"
      },
      "outputs": [],
      "source": [
        "from sklearn.linear_model import LogisticRegression\n",
        "from sklearn.multioutput import MultiOutputClassifier\n",
        "from sklearn.metrics import accuracy_score, f1_score"
      ]
    },
    {
      "cell_type": "code",
      "execution_count": null,
      "metadata": {
        "id": "xQfINoFmf3s2"
      },
      "outputs": [],
      "source": [
        "from sklearn.preprocessing import StandardScaler\n",
        "\n",
        "scaler = StandardScaler()\n",
        "X_train = scaler.fit_transform(X_train)\n",
        "X_valid = scaler.transform(X_valid)\n",
        "X_test = scaler.transform(X_test)"
      ]
    },
    {
      "cell_type": "code",
      "execution_count": null,
      "metadata": {
        "id": "XH8_9namf3s2",
        "scrolled": true
      },
      "outputs": [],
      "source": [
        "%%time\n",
        "logreg = LogisticRegression(solver='lbfgs', C=0.5, max_iter=1000)\n",
        "model = MultiOutputClassifier(logreg)\n",
        "model.fit(X_train, y_train)"
      ]
    },
    {
      "cell_type": "code",
      "execution_count": null,
      "metadata": {
        "id": "0pIGnP9vf3s3",
        "outputId": "0fbd983c-f84f-424f-b222-387c43de929a"
      },
      "outputs": [
        {
          "name": "stdout",
          "output_type": "stream",
          "text": [
            "0.0398\n"
          ]
        }
      ],
      "source": [
        "from sklearn.metrics import accuracy_score, f1_score\n",
        "y_pred = model.predict(X_test)\n",
        "print(accuracy_score(y_test, y_pred))"
      ]
    },
    {
      "cell_type": "markdown",
      "metadata": {
        "id": "G8zKJfzrf3s3"
      },
      "source": [
        "Опишем функцию подбора оптимальных порогов бинаризации для каждого класса и подберем их для модели на валидационной выборке:"
      ]
    },
    {
      "cell_type": "code",
      "execution_count": null,
      "metadata": {
        "id": "TDtS9bWWf3s3"
      },
      "outputs": [],
      "source": [
        "from sklearn.metrics import f1_score\n",
        "import numpy as np"
      ]
    },
    {
      "cell_type": "markdown",
      "metadata": {
        "id": "jyk3zOuZ9I5w"
      },
      "source": [
        "Тут позиционный аргумент average не используется, потому что метрика f1_score вызывается по одному классу за раз внутри цикла"
      ]
    },
    {
      "cell_type": "code",
      "execution_count": null,
      "metadata": {
        "id": "VjmkA4eQf3s4"
      },
      "outputs": [],
      "source": [
        "def calculate_best_thresholds(model, X_valid, y_valid, average='macro', step=0.1):\n",
        "    proba = model.predict_proba(X_valid)\n",
        "    proba = np.array([p[:, 1] for p in proba]).T  # (n_samples, n_classes)\n",
        "\n",
        "    best_thresholds = []\n",
        "    for i in range(proba.shape[1]):\n",
        "        best_f1 = 0\n",
        "        best_t = 0.5\n",
        "        for t in np.arange(0, 1.01, step):\n",
        "            preds = (proba[:, i] >= t).astype(int)\n",
        "            f1 = f1_score(y_valid[:, i], preds, average='binary', zero_division=0)\n",
        "            if f1 > best_f1:\n",
        "                best_f1 = f1\n",
        "                best_t = t\n",
        "        best_thresholds.append(best_t)\n",
        "    return np.array(best_thresholds)"
      ]
    },
    {
      "cell_type": "markdown",
      "metadata": {
        "id": "5gAlK4mnf3s4"
      },
      "source": [
        "Опишем код применения модели и порогов к выходным вероятностям для получения значений F1-меры с micro и macro усреднениями и вычислим их на тестовой выборке."
      ]
    },
    {
      "cell_type": "code",
      "execution_count": null,
      "metadata": {
        "id": "fj7f7ug8f3s4",
        "outputId": "0f0f0c27-fa24-4683-8ddd-c5a1693803d9"
      },
      "outputs": [
        {
          "name": "stdout",
          "output_type": "stream",
          "text": [
            "F1-macro: 0.49\n",
            "F1-micro: 0.51\n",
            "CPU times: total: 688 ms\n",
            "Wall time: 1 s\n"
          ]
        }
      ],
      "source": [
        "%%time\n",
        "\n",
        "best_thresholds = calculate_best_thresholds(model, X_valid, y_valid)\n",
        "\n",
        "# Предсказание на тесте\n",
        "proba_test = model.predict_proba(X_test)\n",
        "proba_test = np.array([p[:, 1] for p in proba_test]).T  # (n_samples, n_classes)\n",
        "\n",
        "# Применяем пороги\n",
        "y_test_pred = (proba_test >= best_thresholds).astype(int)\n",
        "\n",
        "# Оценка качества\n",
        "print(f\"F1-macro: {f1_score(y_test, y_test_pred, average='macro'):.2f}\")\n",
        "print(f\"F1-micro: {f1_score(y_test, y_test_pred, average='micro'):.2f}\")"
      ]
    },
    {
      "cell_type": "markdown",
      "metadata": {
        "id": "gG--hNfRf3s4"
      },
      "source": [
        "Теперь проведем набор запусков с различными комбинациями размера словаря `CountVectorizer` и числа компонент в `TruncatedSVD` и оценим их влияние на качество на текстовой выборке\n",
        "\n",
        "- попробуем 3 существенно различных значения для каждого параметра\n",
        "- результаты представим в виде таблиц и сделанных на их основе выводов"
      ]
    },
    {
      "cell_type": "code",
      "execution_count": null,
      "metadata": {
        "id": "JrExNDCKf3s5"
      },
      "outputs": [],
      "source": [
        "from tqdm import tqdm"
      ]
    },
    {
      "cell_type": "code",
      "execution_count": null,
      "metadata": {
        "id": "VVjQv_Zof3s5",
        "outputId": "9957759c-546e-4b17-b807-25206fd50fca"
      },
      "outputs": [
        {
          "name": "stderr",
          "output_type": "stream",
          "text": [
            "max_features loop:   0%|                                                                         | 0/3 [00:00<?, ?it/s]\n",
            "\u001b[A loop for max_features=1000:   0%|                                                            | 0/3 [00:00<?, ?it/s]\n",
            "\u001b[A loop for max_features=1000:  33%|█████████████████▎                                  | 1/3 [00:13<00:27, 13.93s/it]\n",
            "\u001b[A loop for max_features=1000:  67%|██████████████████████████████████▋                 | 2/3 [00:27<00:13, 13.86s/it]\n",
            "\u001b[A loop for max_features=1000: 100%|████████████████████████████████████████████████████| 3/3 [01:17<00:00, 30.23s/it]\n",
            "max_features loop:  33%|█████████████████████▎                                          | 1/3 [02:35<05:11, 155.88s/it]\n",
            "\u001b[A loop for max_features=5000:   0%|                                                            | 0/3 [00:00<?, ?it/s]\n",
            "\u001b[A loop for max_features=5000:  33%|█████████████████▎                                  | 1/3 [00:12<00:25, 12.98s/it]\n",
            "\u001b[A loop for max_features=5000:  67%|██████████████████████████████████▋                 | 2/3 [00:33<00:17, 17.27s/it]\n",
            "\u001b[A loop for max_features=5000: 100%|████████████████████████████████████████████████████| 3/3 [01:44<00:00, 42.04s/it]\n",
            "max_features loop:  67%|██████████████████████████████████████████▋                     | 2/3 [05:35<02:49, 169.91s/it]\n",
            "\u001b[A loop for max_features=10000:   0%|                                                           | 0/3 [00:00<?, ?it/s]\n",
            "\u001b[A loop for max_features=10000:  33%|█████████████████                                  | 1/3 [00:13<00:26, 13.36s/it]\n",
            "\u001b[A loop for max_features=10000:  67%|██████████████████████████████████                 | 2/3 [00:33<00:17, 17.54s/it]\n",
            "\u001b[A loop for max_features=10000: 100%|███████████████████████████████████████████████████| 3/3 [01:57<00:00, 47.68s/it]\n",
            "max_features loop: 100%|████████████████████████████████████████████████████████████████| 3/3 [08:46<00:00, 175.60s/it]"
          ]
        },
        {
          "name": "stdout",
          "output_type": "stream",
          "text": [
            "CPU times: total: 8min 45s\n",
            "Wall time: 8min 46s\n"
          ]
        },
        {
          "name": "stderr",
          "output_type": "stream",
          "text": [
            "\n"
          ]
        }
      ],
      "source": [
        "%%time\n",
        "\n",
        "results = []\n",
        "\n",
        "max_features_list = [1000, 5000, 10000]\n",
        "n_components_list = [50, 100, 500]\n",
        "\n",
        "for max_features in tqdm(max_features_list, desc=\"max_features loop\"):\n",
        "    # векторизация\n",
        "    vectorizer = CountVectorizer(max_features=max_features)\n",
        "    X_train_counts = vectorizer.fit_transform(texts_train)\n",
        "    X_valid_counts = vectorizer.transform(texts_valid)\n",
        "    X_test_counts = vectorizer.transform(texts_test)\n",
        "\n",
        "    for n_components in tqdm(n_components_list, desc=f\"SVD loop for max_features={max_features}\", leave=False):\n",
        "        # SVD\n",
        "        svd = TruncatedSVD(n_components=n_components, random_state=42)\n",
        "        X_train = svd.fit_transform(X_train_counts)\n",
        "        X_valid = svd.transform(X_valid_counts)\n",
        "        X_test = svd.transform(X_test_counts)\n",
        "\n",
        "        # Нормализация\n",
        "        scaler = StandardScaler()\n",
        "        X_train = scaler.fit_transform(X_train)\n",
        "        X_valid = scaler.transform(X_valid)\n",
        "        X_test = scaler.transform(X_test)\n",
        "\n",
        "        # Модель\n",
        "        logreg = LogisticRegression(max_iter=500, solver='lbfgs', C=0.5, n_jobs=-1)\n",
        "        model = MultiOutputClassifier(logreg, n_jobs=-1)\n",
        "        model.fit(X_train, y_train)\n",
        "\n",
        "        # Оптимизация порогов\n",
        "        best_thresholds = calculate_best_thresholds(model, X_valid, y_valid)\n",
        "\n",
        "        proba_test = model.predict_proba(X_test)\n",
        "        proba_test = np.array([p[:, 1] for p in proba_test]).T\n",
        "\n",
        "        y_test_pred = (proba_test >= best_thresholds).astype(int)\n",
        "\n",
        "        # F1 скоры\n",
        "        f1_macro = f1_score(y_test, y_test_pred, average='macro')\n",
        "        f1_micro = f1_score(y_test, y_test_pred, average='micro')\n",
        "\n",
        "        results.append({\n",
        "            'max_features': max_features,\n",
        "            'n_components': n_components,\n",
        "            'f1_macro': f1_macro,\n",
        "            'f1_micro': f1_micro\n",
        "        })"
      ]
    },
    {
      "cell_type": "code",
      "execution_count": null,
      "metadata": {
        "id": "4-fP8H6Mf3s5",
        "outputId": "0a660c1e-31bd-4f81-ccac-b1a771b1ada2"
      },
      "outputs": [
        {
          "data": {
            "text/html": [
              "<div>\n",
              "<style scoped>\n",
              "    .dataframe tbody tr th:only-of-type {\n",
              "        vertical-align: middle;\n",
              "    }\n",
              "\n",
              "    .dataframe tbody tr th {\n",
              "        vertical-align: top;\n",
              "    }\n",
              "\n",
              "    .dataframe thead th {\n",
              "        text-align: right;\n",
              "    }\n",
              "</style>\n",
              "<table border=\"1\" class=\"dataframe\">\n",
              "  <thead>\n",
              "    <tr style=\"text-align: right;\">\n",
              "      <th></th>\n",
              "      <th>max_features</th>\n",
              "      <th>n_components</th>\n",
              "      <th>f1_macro</th>\n",
              "      <th>f1_micro</th>\n",
              "    </tr>\n",
              "  </thead>\n",
              "  <tbody>\n",
              "    <tr>\n",
              "      <th>0</th>\n",
              "      <td>1000</td>\n",
              "      <td>50</td>\n",
              "      <td>0.42</td>\n",
              "      <td>0.48</td>\n",
              "    </tr>\n",
              "    <tr>\n",
              "      <th>1</th>\n",
              "      <td>1000</td>\n",
              "      <td>100</td>\n",
              "      <td>0.48</td>\n",
              "      <td>0.50</td>\n",
              "    </tr>\n",
              "    <tr>\n",
              "      <th>2</th>\n",
              "      <td>1000</td>\n",
              "      <td>500</td>\n",
              "      <td>0.55</td>\n",
              "      <td>0.68</td>\n",
              "    </tr>\n",
              "    <tr>\n",
              "      <th>3</th>\n",
              "      <td>5000</td>\n",
              "      <td>50</td>\n",
              "      <td>0.42</td>\n",
              "      <td>0.47</td>\n",
              "    </tr>\n",
              "    <tr>\n",
              "      <th>4</th>\n",
              "      <td>5000</td>\n",
              "      <td>100</td>\n",
              "      <td>0.50</td>\n",
              "      <td>0.52</td>\n",
              "    </tr>\n",
              "    <tr>\n",
              "      <th>5</th>\n",
              "      <td>5000</td>\n",
              "      <td>500</td>\n",
              "      <td>0.59</td>\n",
              "      <td>0.71</td>\n",
              "    </tr>\n",
              "    <tr>\n",
              "      <th>6</th>\n",
              "      <td>10000</td>\n",
              "      <td>50</td>\n",
              "      <td>0.44</td>\n",
              "      <td>0.48</td>\n",
              "    </tr>\n",
              "    <tr>\n",
              "      <th>7</th>\n",
              "      <td>10000</td>\n",
              "      <td>100</td>\n",
              "      <td>0.49</td>\n",
              "      <td>0.50</td>\n",
              "    </tr>\n",
              "    <tr>\n",
              "      <th>8</th>\n",
              "      <td>10000</td>\n",
              "      <td>500</td>\n",
              "      <td>0.59</td>\n",
              "      <td>0.70</td>\n",
              "    </tr>\n",
              "  </tbody>\n",
              "</table>\n",
              "</div>"
            ],
            "text/plain": [
              "   max_features  n_components  f1_macro  f1_micro\n",
              "0          1000            50      0.42      0.48\n",
              "1          1000           100      0.48      0.50\n",
              "2          1000           500      0.55      0.68\n",
              "3          5000            50      0.42      0.47\n",
              "4          5000           100      0.50      0.52\n",
              "5          5000           500      0.59      0.71\n",
              "6         10000            50      0.44      0.48\n",
              "7         10000           100      0.49      0.50\n",
              "8         10000           500      0.59      0.70"
            ]
          },
          "execution_count": 28,
          "metadata": {},
          "output_type": "execute_result"
        }
      ],
      "source": [
        "import pandas as pd\n",
        "# Заносим данные в таблицу\n",
        "df_results = pd.DataFrame(results)\n",
        "df_results.round(2)"
      ]
    },
    {
      "cell_type": "markdown",
      "metadata": {
        "id": "bgTbVRJxf3s6"
      },
      "source": [
        "Заменим метод векторизации документов для модели выше на BERT.\n",
        "\n",
        "Опишем код класса BERTVectorizer, который должен уметь обрабатывать данные в батчевом режиме на заданном устройстве. МЫ предусмотрим 2 режима формирования векторов документов - на основе CLS-токена и на основе усреднения всех выходных векторов (тут нужно использовать поле `attention_mask` и игнорировать векторы токенов паддинга, для которых в маске записан 0):"
      ]
    },
    {
      "cell_type": "code",
      "execution_count": null,
      "metadata": {
        "id": "lNc1WsPyf3s6"
      },
      "outputs": [],
      "source": [
        "from transformers import AutoTokenizer, AutoModel"
      ]
    },
    {
      "cell_type": "code",
      "execution_count": null,
      "metadata": {
        "id": "0ob3M9YpNZ1q"
      },
      "outputs": [],
      "source": [
        "import torch\n",
        "from tqdm import tqdm"
      ]
    },
    {
      "cell_type": "code",
      "execution_count": null,
      "metadata": {
        "id": "vuWZbW2Nf3s6"
      },
      "outputs": [],
      "source": [
        "class BERTVectorizer:\n",
        "    def __init__(self, model_name, batch_size=512, device='cuda:0'):\n",
        "        self.model_name = model_name\n",
        "        self.batch_size = batch_size\n",
        "        self.device = device\n",
        "        self.tokenizer = AutoTokenizer.from_pretrained(self.model_name)\n",
        "        self.model = AutoModel.from_pretrained(self.model_name).to(self.device)\n",
        "        self.model.eval()\n",
        "\n",
        "    def __call__(self, texts, averaging='cls'):\n",
        "        embeddings = []\n",
        "        with torch.no_grad():\n",
        "            for i in tqdm(range(0, len(texts), self.batch_size), desc=\"Vectorizing\"):\n",
        "                batch_texts = texts[i:i + self.batch_size]\n",
        "                batch_embeddings = self._vectorize_batch(batch_texts, averaging)\n",
        "                embeddings.append(batch_embeddings)\n",
        "                torch.cuda.empty_cache()  # Очистка памяти после каждого батча\n",
        "        return np.vstack(embeddings)\n",
        "\n",
        "    def _vectorize_batch(self, texts, averaging):\n",
        "        inputs = self.tokenizer(\n",
        "            texts,\n",
        "            padding=True,\n",
        "            truncation=True,\n",
        "            return_tensors='pt'\n",
        "        ).to(self.device)\n",
        "\n",
        "        outputs = self.model(**inputs)\n",
        "        last_hidden_state = outputs.last_hidden_state  # (batch_size, seq_len, hidden_size)\n",
        "\n",
        "        if averaging == 'cls':\n",
        "            return last_hidden_state[:, 0, :].cpu().numpy()\n",
        "        elif averaging == 'mean':\n",
        "            attention_mask = inputs['attention_mask'].unsqueeze(-1)\n",
        "            masked_hidden = last_hidden_state * attention_mask\n",
        "            sum_hidden = masked_hidden.sum(dim=1)\n",
        "            mask_sum = attention_mask.sum(dim=1)\n",
        "            return (sum_hidden / mask_sum.clamp(min=1e-9)).cpu().numpy()\n",
        "        else:\n",
        "            return\n"
      ]
    },
    {
      "cell_type": "markdown",
      "metadata": {
        "id": "HrOpXo_Bf3s7"
      },
      "source": [
        "теперь используем его для векторизации данных с помощью модели `cointegrated/rubert-tiny2`:"
      ]
    },
    {
      "cell_type": "code",
      "execution_count": null,
      "metadata": {
        "id": "9Tlj_CnVf3s7"
      },
      "outputs": [],
      "source": [
        "model_name = \"cointegrated/rubert-tiny2\"\n",
        "device = 'cuda:0'\n",
        "bert_vectorizer = BERTVectorizer(model_name=model_name, device=device, batch_size=32)"
      ]
    },
    {
      "cell_type": "code",
      "execution_count": null,
      "metadata": {
        "id": "r8iPnONfOI0C"
      },
      "outputs": [],
      "source": [
        "texts_train = dataset['train']['text']\n",
        "texts_valid = dataset['validation']['text']\n",
        "texts_test = dataset['test']['text']"
      ]
    },
    {
      "cell_type": "code",
      "execution_count": null,
      "metadata": {
        "id": "3QFepHY4S8f0"
      },
      "outputs": [],
      "source": [
        "import os\n",
        "import numpy as np\n",
        "\n",
        "def save_vectors(filename, array):\n",
        "    np.save(filename, array)\n",
        "\n",
        "def load_vectors(filename):\n",
        "    return np.load(filename + \".npy\")"
      ]
    },
    {
      "cell_type": "code",
      "execution_count": null,
      "metadata": {
        "colab": {
          "base_uri": "https://localhost:8080/"
        },
        "id": "AjiNEF96f3s7",
        "outputId": "8233b325-811e-4ad8-8948-23a336bf5310"
      },
      "outputs": [
        {
          "name": "stderr",
          "output_type": "stream",
          "text": [
            "Vectorizing: 100%|██████████| 1719/1719 [19:08<00:00,  1.50it/s]\n"
          ]
        }
      ],
      "source": [
        "# your code here\n",
        "X_train = bert_vectorizer(texts_train, averaging='cls')\n"
      ]
    },
    {
      "cell_type": "code",
      "execution_count": null,
      "metadata": {
        "colab": {
          "base_uri": "https://localhost:8080/"
        },
        "id": "3ymFsU3FTPKr",
        "outputId": "f875e0ef-6bdf-485a-fef0-72ccf760b485"
      },
      "outputs": [
        {
          "name": "stderr",
          "output_type": "stream",
          "text": [
            "Vectorizing: 100%|██████████| 157/157 [01:46<00:00,  1.47it/s]\n",
            "Vectorizing: 100%|██████████| 157/157 [01:59<00:00,  1.31it/s]\n"
          ]
        }
      ],
      "source": [
        "X_valid = bert_vectorizer(texts_valid, averaging='cls')\n",
        "X_test = bert_vectorizer(texts_test, averaging='cls')"
      ]
    },
    {
      "cell_type": "markdown",
      "metadata": {
        "id": "mPAqNZSFf3s7"
      },
      "source": [
        "Опишем код сохранения/загрузки векторов с диска:"
      ]
    },
    {
      "cell_type": "code",
      "execution_count": null,
      "metadata": {
        "id": "sjLDnMXLf3s8"
      },
      "outputs": [],
      "source": [
        "# your code here\n",
        "save_vectors('X_train_cls', X_train)\n",
        "save_vectors('X_valid_cls', X_valid)\n",
        "save_vectors('X_test_cls', X_test)"
      ]
    },
    {
      "cell_type": "markdown",
      "metadata": {
        "id": "j4FoB0mZf3s8"
      },
      "source": [
        "Повторим обучение модели и замер качества из п.1 на новых векторах:"
      ]
    },
    {
      "cell_type": "code",
      "execution_count": null,
      "metadata": {
        "id": "iOJr27OFf3s8"
      },
      "outputs": [],
      "source": [
        "logreg2 = LogisticRegression(solver='lbfgs', C=0.5, max_iter=1000)\n",
        "model = MultiOutputClassifier(logreg2)\n",
        "model.fit(X_train, y_train)"
      ]
    },
    {
      "cell_type": "code",
      "execution_count": null,
      "metadata": {
        "colab": {
          "base_uri": "https://localhost:8080/"
        },
        "id": "jxHgfR-zgwc7",
        "outputId": "278d413d-402a-43c7-9a7d-91a08ccf08b5"
      },
      "outputs": [
        {
          "name": "stdout",
          "output_type": "stream",
          "text": [
            "0.0844\n"
          ]
        }
      ],
      "source": [
        "from sklearn.metrics import accuracy_score, f1_score\n",
        "y_pred = model.predict(X_test)\n",
        "print(accuracy_score(y_test, y_pred))"
      ]
    },
    {
      "cell_type": "code",
      "execution_count": null,
      "metadata": {
        "colab": {
          "base_uri": "https://localhost:8080/"
        },
        "id": "Io5itPDOg0qQ",
        "outputId": "a28218dd-70d7-4b5c-a817-965b8f935e58"
      },
      "outputs": [
        {
          "name": "stdout",
          "output_type": "stream",
          "text": [
            "F1-macro: 0.56\n",
            "F1-micro: 0.67\n"
          ]
        }
      ],
      "source": [
        "best_thresholds = calculate_best_thresholds(model, X_valid, y_valid)\n",
        "\n",
        "# Предсказание на тесте\n",
        "proba_test = model.predict_proba(X_test)\n",
        "proba_test = np.array([p[:, 1] for p in proba_test]).T  # (n_samples, n_classes)\n",
        "\n",
        "# Применяем пороги\n",
        "y_test_pred = (proba_test >= best_thresholds).astype(int)\n",
        "\n",
        "# Оценка качества\n",
        "print(f\"F1-macro: {f1_score(y_test, y_test_pred, average='macro'):.2f}\")\n",
        "print(f\"F1-micro: {f1_score(y_test, y_test_pred, average='micro'):.2f}\")"
      ]
    },
    {
      "cell_type": "markdown",
      "metadata": {
        "id": "AvZddCs6f3s9"
      },
      "source": [
        "Попробуем заменить векторизатор на более крупный и качественный (например, `intfloat/multilingual-e5-base` или `sentence-transformers/paraphrase-xlm-r-multilingual-v1`) и повторим обучение, сделаем выводы о качестве:"
      ]
    },
    {
      "cell_type": "code",
      "execution_count": null,
      "metadata": {
        "id": "Q0NGBmaBf3s9"
      },
      "outputs": [],
      "source": [
        "# your code here\n",
        "model_name = \"sentence-transformers/paraphrase-xlm-r-multilingual-v1\"\n",
        "bert_vectorizer_large = BERTVectorizer(model_name=model_name, device=device, batch_size=32)"
      ]
    },
    {
      "cell_type": "code",
      "execution_count": null,
      "metadata": {
        "colab": {
          "base_uri": "https://localhost:8080/"
        },
        "id": "mvu7-kUZhzlP",
        "outputId": "7635bc6f-80ed-4193-e22e-e814d7718592"
      },
      "outputs": [
        {
          "name": "stderr",
          "output_type": "stream",
          "text": [
            "Vectorizing: 100%|██████████| 1719/1719 [31:17<00:00,  1.09s/it]\n",
            "Vectorizing: 100%|██████████| 157/157 [02:53<00:00,  1.10s/it]\n",
            "Vectorizing: 100%|██████████| 157/157 [03:05<00:00,  1.18s/it]\n"
          ]
        }
      ],
      "source": [
        "X_train_large = bert_vectorizer_large(dataset['train']['text'], averaging='cls')\n",
        "X_valid_large = bert_vectorizer_large(dataset['validation']['text'], averaging='cls')\n",
        "X_test_large  = bert_vectorizer_large(dataset['test']['text'], averaging='cls')\n",
        "\n",
        "save_vectors('X_train_large_cls', X_train_large)\n",
        "save_vectors('X_valid_large_cls', X_valid_large)\n",
        "save_vectors('X_test_large_cls', X_test_large)"
      ]
    },
    {
      "cell_type": "code",
      "execution_count": null,
      "metadata": {
        "id": "3SbhjHRPq5uO"
      },
      "outputs": [],
      "source": [
        "model3 = MultiOutputClassifier(logreg2)\n",
        "model3.fit(X_train_large, y_train)"
      ]
    },
    {
      "cell_type": "code",
      "execution_count": null,
      "metadata": {
        "colab": {
          "base_uri": "https://localhost:8080/"
        },
        "id": "D6vOwco0r0rS",
        "outputId": "42b57c12-d81e-47ae-89b1-a4fcb133cd11"
      },
      "outputs": [
        {
          "name": "stdout",
          "output_type": "stream",
          "text": [
            "F1-macro: 0.60\n",
            "F1-micro: 0.73\n"
          ]
        }
      ],
      "source": [
        "best_thresholds = calculate_best_thresholds(model3, X_valid_large, y_valid)\n",
        "\n",
        "# Предсказание на тесте\n",
        "proba_test = model3.predict_proba(X_test_large)\n",
        "proba_test = np.array([p[:, 1] for p in proba_test]).T  # (n_samples, n_classes)\n",
        "\n",
        "# Применяем пороги\n",
        "y_test_pred = (proba_test >= best_thresholds).astype(int)\n",
        "\n",
        "# Оценка качества\n",
        "print(f\"F1-macro: {f1_score(y_test, y_test_pred, average='macro'):.2f}\")\n",
        "print(f\"F1-micro: {f1_score(y_test, y_test_pred, average='micro'):.2f}\")"
      ]
    },
    {
      "cell_type": "markdown",
      "metadata": {
        "id": "N3mXICz-f3s9"
      },
      "source": [
        "Реализуем модель, похожую на реализованную выше, на PyTorch.\n",
        "\n",
        "Опишем класс модели с одним линейным слоем, в качестве активации на выходе опробуем сигмоиду:"
      ]
    },
    {
      "cell_type": "code",
      "execution_count": null,
      "metadata": {
        "id": "2xfd4adMf3s9"
      },
      "outputs": [],
      "source": [
        "import torch\n",
        "import torch.nn as nn"
      ]
    },
    {
      "cell_type": "code",
      "execution_count": null,
      "metadata": {
        "id": "HJjZ7xsMf3s-"
      },
      "outputs": [],
      "source": [
        "class Model(nn.Module):\n",
        "    def __init__(self, embedding_dim, num_labels):\n",
        "        super().__init__()\n",
        "        self.linear = nn.Linear(embedding_dim, num_labels)\n",
        "        self.activation = nn.Sigmoid()\n",
        "\n",
        "    def forward(self, x):\n",
        "        return self.activation(self.linear(x))"
      ]
    },
    {
      "cell_type": "markdown",
      "metadata": {
        "id": "M_FJr4Cif3s-"
      },
      "source": [
        "Получим с помощью кода из п.1 векторные представления данных:"
      ]
    },
    {
      "cell_type": "code",
      "execution_count": null,
      "metadata": {
        "id": "dU5Wf2gMf3s_"
      },
      "outputs": [],
      "source": [
        "texts_train = dataset['train']['text']\n",
        "texts_valid = dataset['validation']['text']\n",
        "texts_test = dataset['test']['text']\n",
        "\n",
        "vectorizer = CountVectorizer(max_features=5000)\n",
        "X_train_counts = vectorizer.fit_transform(texts_train)\n",
        "X_valid_counts = vectorizer.transform(texts_valid)\n",
        "X_test_counts = vectorizer.transform(texts_test)\n",
        "\n",
        "svd = TruncatedSVD(n_components=500)\n",
        "X_train = svd.fit_transform(X_train_counts)\n",
        "X_valid = svd.transform(X_valid_counts)\n",
        "X_test = svd.transform(X_test_counts)\n",
        "\n",
        "scaler = StandardScaler()\n",
        "X_train = scaler.fit_transform(X_train)\n",
        "X_valid = scaler.transform(X_valid)\n",
        "X_test = scaler.transform(X_test)\n",
        "\n",
        "mlb = MultiLabelBinarizer()\n",
        "y_train = mlb.fit_transform(dataset['train']['labels'])\n",
        "y_valid = mlb.transform(dataset['validation']['labels'])\n",
        "y_test = mlb.transform(dataset['test']['labels'])"
      ]
    },
    {
      "cell_type": "markdown",
      "metadata": {
        "id": "9clJlFyif3s_"
      },
      "source": [
        "Опишем код класса датасета, объявим датасеты и загрузчики данных с подходящими размерами батчей:"
      ]
    },
    {
      "cell_type": "code",
      "execution_count": null,
      "metadata": {
        "id": "kkNF-Hvmf3s-"
      },
      "outputs": [],
      "source": [
        "class Dataset(torch.utils.data.Dataset):\n",
        "    def __init__(self, data, labels):\n",
        "        assert len(data) == len(labels)\n",
        "        self.data = torch.Tensor(data).to(torch.float32)\n",
        "        self.labels = torch.Tensor(labels)\n",
        "\n",
        "    def __len__(self):\n",
        "        return len(self.data)\n",
        "\n",
        "    def __getitem__(self, idx):\n",
        "        return self.data[idx], self.labels[idx]\n"
      ]
    },
    {
      "cell_type": "code",
      "execution_count": null,
      "metadata": {
        "id": "zaIBdtlef3s_"
      },
      "outputs": [],
      "source": [
        "# your code here\n",
        "\n",
        "train_dataset = Dataset(X_train, y_train)\n",
        "valid_dataset = Dataset(X_valid, y_valid)\n",
        "test_dataset = Dataset(X_test, y_test)\n",
        "\n",
        "train_dataloader = torch.utils.data.DataLoader(train_dataset, batch_size=32, shuffle=True)\n",
        "valid_dataloader = torch.utils.data.DataLoader(valid_dataset, batch_size=1024)\n",
        "test_dataloader = torch.utils.data.DataLoader(test_dataset, batch_size=1024)"
      ]
    },
    {
      "cell_type": "markdown",
      "metadata": {
        "id": "bGdqmiXLf3s_"
      },
      "source": [
        "Создадим модель, оптимизатор с функцией потерь binary cross-entropy:"
      ]
    },
    {
      "cell_type": "code",
      "execution_count": null,
      "metadata": {
        "id": "O2N_laqb4oMa"
      },
      "outputs": [],
      "source": [
        "device = torch.device('cuda:0' if torch.cuda.is_available() else 'cpu')\n",
        "embedding_dim = X_train.shape[1]\n",
        "num_labels = y_train.shape[1]\n",
        "\n",
        "model = Model(embedding_dim, num_labels).to(device)\n",
        "optimizer = torch.optim.SGD(model.parameters(), lr=0.05)\n",
        "loss_fn = torch.nn.BCELoss(reduction='mean')"
      ]
    },
    {
      "cell_type": "markdown",
      "metadata": {
        "id": "fi8LV2U0f3tA"
      },
      "source": [
        "- Опишем цикл обучения, на каждом шаге считаем лосс на валидационном датасете\n",
        "- Раз в несколько шагов подбираем на валидации оптимальные пороги бинаризации и делаем на нём же замер F1-меры с micro/macro усреднениями\n",
        "- Запустим обучение с необходимым числом эпох с замером времени выполнения эпохи\n",
        "- Для лучшей модели в конце обучения повторно подберем пороги на валидации и произведем итоговый замер на тестовых данных\n",
        "- Выведем графики убывания лосса на обучении и валидации и значений метрик"
      ]
    },
    {
      "cell_type": "markdown",
      "metadata": {
        "id": "zVU1G6Tw6oh5"
      },
      "source": [
        "Реализум функцию подбора бинаризации для torch по аналогии с той, которую реализовали для sclearn"
      ]
    },
    {
      "cell_type": "code",
      "execution_count": null,
      "metadata": {
        "id": "6bjYuXNF3Dev"
      },
      "outputs": [],
      "source": [
        "import time\n",
        "\n",
        "num_epochs = 20\n",
        "\n",
        "def calculate_best_thresholds_torch(proba, y_true, average='macro', step=0.1):\n",
        "\n",
        "    best_thresholds = []\n",
        "    for i in range(proba.shape[1]):\n",
        "        best_f1 = 0\n",
        "        best_t = 0.5\n",
        "        for t in np.arange(0, 1.01, step):\n",
        "            preds = (proba[:, i] >= t).astype(int)\n",
        "            f1 = f1_score(y_true[:, i], preds, average='binary', zero_division=0)\n",
        "            if f1 > best_f1:\n",
        "                best_f1 = f1\n",
        "                best_t = t\n",
        "        best_thresholds.append(best_t)\n",
        "    return np.array(best_thresholds)"
      ]
    },
    {
      "cell_type": "code",
      "execution_count": null,
      "metadata": {
        "colab": {
          "base_uri": "https://localhost:8080/"
        },
        "id": "VDVN2FBqf3tA",
        "outputId": "64cbe9a7-d129-4795-9fd0-053c83541756"
      },
      "outputs": [
        {
          "name": "stdout",
          "output_type": "stream",
          "text": [
            "Iter #0 Time 2s Train loss: 0.5054 Valid loss: 0.4073 Test F1-micro: 0.53 Test F1-macro: 0.46\n",
            "Iter #1 Time 2s Train loss: 0.3293 Valid loss: 0.3389 Test F1-micro: 0.53 Test F1-macro: 0.46\n",
            "Iter #2 Time 2s Train loss: 0.2794 Valid loss: 0.3190 Test F1-micro: 0.53 Test F1-macro: 0.46\n",
            "Iter #3 Time 2s Train loss: 0.2576 Valid loss: 0.3074 Test F1-micro: 0.53 Test F1-macro: 0.46\n",
            "Iter #4 Time 2s Train loss: 0.2454 Valid loss: 0.3012 Test F1-micro: 0.53 Test F1-macro: 0.46\n",
            "Iter #5 Time 2s Train loss: 0.2377 Valid loss: 0.2980 Test F1-micro: 0.62 Test F1-macro: 0.51\n",
            "Iter #6 Time 2s Train loss: 0.2322 Valid loss: 0.2950 Test F1-micro: 0.62 Test F1-macro: 0.51\n",
            "Iter #7 Time 2s Train loss: 0.2282 Valid loss: 0.2938 Test F1-micro: 0.62 Test F1-macro: 0.51\n",
            "Iter #8 Time 2s Train loss: 0.2250 Valid loss: 0.2942 Test F1-micro: 0.62 Test F1-macro: 0.51\n",
            "Iter #9 Time 2s Train loss: 0.2225 Valid loss: 0.2964 Test F1-micro: 0.62 Test F1-macro: 0.51\n",
            "Iter #10 Time 2s Train loss: 0.2203 Valid loss: 0.2984 Test F1-micro: 0.64 Test F1-macro: 0.52\n",
            "Iter #11 Time 2s Train loss: 0.2184 Valid loss: 0.2977 Test F1-micro: 0.64 Test F1-macro: 0.52\n",
            "Iter #12 Time 2s Train loss: 0.2171 Valid loss: 0.2970 Test F1-micro: 0.64 Test F1-macro: 0.52\n",
            "Iter #13 Time 2s Train loss: 0.2157 Valid loss: 0.2965 Test F1-micro: 0.64 Test F1-macro: 0.52\n",
            "Iter #14 Time 2s Train loss: 0.2145 Valid loss: 0.2962 Test F1-micro: 0.64 Test F1-macro: 0.52\n",
            "Iter #15 Time 2s Train loss: 0.2135 Valid loss: 0.2966 Test F1-micro: 0.65 Test F1-macro: 0.53\n",
            "Iter #16 Time 2s Train loss: 0.2126 Valid loss: 0.2962 Test F1-micro: 0.65 Test F1-macro: 0.53\n",
            "Iter #17 Time 2s Train loss: 0.2117 Valid loss: 0.2961 Test F1-micro: 0.65 Test F1-macro: 0.53\n",
            "Iter #18 Time 2s Train loss: 0.2109 Valid loss: 0.2981 Test F1-micro: 0.65 Test F1-macro: 0.53\n",
            "Iter #19 Time 4s Train loss: 0.2102 Valid loss: 0.2978 Test F1-micro: 0.66 Test F1-macro: 0.54\n"
          ]
        }
      ],
      "source": [
        "train_loss_list, valid_loss_list = [], []\n",
        "valid_f1_micro_list, valid_f1_macro_list = [], []\n",
        "test_f1_micro_list, test_f1_macro_list = [], []\n",
        "\n",
        "best_f1_micro = 0\n",
        "best_model_state = None\n",
        "best_thresholds = None\n",
        "\n",
        "for epoch in range(num_epochs):\n",
        "    timestamp_start = time.time()\n",
        "    model.train()\n",
        "    running_loss = 0.0\n",
        "    num_batches = 0\n",
        "\n",
        "    for i, (X_batch, y_batch) in enumerate(train_dataloader):\n",
        "        X_batch = X_batch.to(device)\n",
        "        y_batch = y_batch.to(device)\n",
        "        optimizer.zero_grad()\n",
        "        outputs = model(X_batch)\n",
        "        loss = loss_fn(outputs, y_batch)\n",
        "        loss.backward()\n",
        "        optimizer.step()\n",
        "        running_loss += loss.item()\n",
        "        num_batches += 1\n",
        "\n",
        "    # Валидация\n",
        "    model.eval()\n",
        "    valid_preds = []\n",
        "    valid_labels = []\n",
        "\n",
        "    with torch.no_grad():\n",
        "        valid_loss = 0\n",
        "        for X_batch, y_batch in valid_dataloader:\n",
        "            X_batch = X_batch.to(device)\n",
        "            y_batch = y_batch.to(device)\n",
        "            outputs = model(X_batch)\n",
        "            valid_loss += loss_fn(outputs, y_batch).item()\n",
        "            valid_preds.append(outputs.cpu().numpy())\n",
        "            valid_labels.append(y_batch.cpu().numpy())\n",
        "\n",
        "        valid_loss = valid_loss / len(valid_dataloader)\n",
        "        valid_loss_list.append(valid_loss)\n",
        "\n",
        "        valid_preds = np.vstack(valid_preds)\n",
        "        valid_labels = np.vstack(valid_labels)\n",
        "        #Оптимизация порогов каждые 5 эпох и на последней\n",
        "        if epoch % 5 == 0 or epoch == num_epochs - 1:\n",
        "            best_thresholds = calculate_best_thresholds_torch(valid_preds, valid_labels)\n",
        "\n",
        "            # Валидационные\n",
        "            valid_pred_binary = (valid_preds >= best_thresholds).astype(int)\n",
        "            f1_micro = f1_score(valid_labels, valid_pred_binary, average='micro')\n",
        "            f1_macro = f1_score(valid_labels, valid_pred_binary, average='macro')\n",
        "            valid_f1_micro_list.append(f1_micro)\n",
        "            valid_f1_macro_list.append(f1_macro)\n",
        "            # Тестовые\n",
        "            test_preds = []\n",
        "            test_labels = []\n",
        "            for X_batch, y_batch in test_dataloader:\n",
        "                X_batch = X_batch.to(device)\n",
        "                outputs = model(X_batch)\n",
        "                test_preds.append(outputs.cpu().numpy())\n",
        "                test_labels.append(y_batch.cpu().numpy())\n",
        "\n",
        "            test_preds = np.vstack(test_preds)\n",
        "            test_labels = np.vstack(test_labels)\n",
        "            test_pred_binary = (test_preds >= best_thresholds).astype(int)\n",
        "\n",
        "            f1_test_micro = f1_score(test_labels, test_pred_binary, average='micro')\n",
        "            f1_test_macro = f1_score(test_labels, test_pred_binary, average='macro')\n",
        "            test_f1_micro_list.append(f1_test_micro)\n",
        "            test_f1_macro_list.append(f1_test_macro)\n",
        "\n",
        "            # Лучшая модель\n",
        "            if f1_micro > best_f1_micro:\n",
        "                best_f1_micro = f1_micro\n",
        "                best_model_state = model.state_dict()\n",
        "                best_thresholds_final = best_thresholds\n",
        "\n",
        "    train_loss = running_loss / num_batches\n",
        "    train_loss_list.append(train_loss)\n",
        "    print(f'Iter #{epoch} '\n",
        "        f'Time {round(time.time() - timestamp_start)}s '\n",
        "        f'Train loss: {train_loss_list[-1]:.4f} '\n",
        "        f'Valid loss: {valid_loss_list[-1]:.4f} '\n",
        "        f'Test F1-micro: {test_f1_micro_list[-1] if test_f1_micro_list else 0:.2f} '\n",
        "        f'Test F1-macro: {test_f1_macro_list[-1] if test_f1_macro_list else 0:.2f}'\n",
        "      )"
      ]
    },
    {
      "cell_type": "code",
      "execution_count": null,
      "metadata": {
        "colab": {
          "base_uri": "https://localhost:8080/",
          "height": 460
        },
        "id": "6mGnA-lYCkBX",
        "outputId": "03d8381a-8108-418a-aad8-86d7a4592e08"
      },
      "outputs": [
        {
          "name": "stdout",
          "output_type": "stream",
          "text": [
            "\n",
            "Final Test Results with Best Model:\n",
            "F1-micro: 0.6591\n",
            "F1-macro: 0.5358\n"
          ]
        },
        {
          "data": {
            "image/png": "[encoded data removed]",
            "text/plain": [
              "<Figure size 1200x400 with 2 Axes>"
            ]
          },
          "metadata": {},
          "output_type": "display_data"
        }
      ],
      "source": [
        "import matplotlib.pyplot as plt\n",
        "\n",
        "model.load_state_dict(best_model_state)\n",
        "model.eval()\n",
        "\n",
        "# Final threshold optimization on validation\n",
        "valid_preds = []\n",
        "valid_labels = []\n",
        "with torch.no_grad():\n",
        "    for X_batch, y_batch in valid_dataloader:\n",
        "        X_batch = X_batch.to(device)\n",
        "        outputs = model(X_batch)\n",
        "        valid_preds.append(outputs.cpu().numpy())\n",
        "        valid_labels.append(y_batch.cpu().numpy())\n",
        "\n",
        "valid_preds = np.vstack(valid_preds)\n",
        "valid_labels = np.vstack(valid_labels)\n",
        "final_thresholds = calculate_best_thresholds_torch(valid_preds, valid_labels)\n",
        "\n",
        "# Final test evaluation\n",
        "test_preds = []\n",
        "test_labels = []\n",
        "with torch.no_grad():\n",
        "    for X_batch, y_batch in test_dataloader:\n",
        "        X_batch = X_batch.to(device)\n",
        "        outputs = model(X_batch)\n",
        "        test_preds.append(outputs.cpu().numpy())\n",
        "        test_labels.append(y_batch.cpu().numpy())\n",
        "\n",
        "test_preds = np.vstack(test_preds)\n",
        "test_labels = np.vstack(test_labels)\n",
        "test_pred_binary = (test_preds >= final_thresholds).astype(int)\n",
        "\n",
        "final_f1_micro = f1_score(test_labels, test_pred_binary, average='micro')\n",
        "final_f1_macro = f1_score(test_labels, test_pred_binary, average='macro')\n",
        "\n",
        "print(f'\\nFinal Test Results with Best Model:')\n",
        "print(f'F1-micro: {final_f1_micro:.4f}')\n",
        "print(f'F1-macro: {final_f1_macro:.4f}')\n",
        "\n",
        "# Plotting\n",
        "plt.figure(figsize=(12, 4))\n",
        "plt.subplot(1, 2, 1)\n",
        "plt.plot(train_loss_list, label='Train Loss')\n",
        "plt.plot(valid_loss_list, label='Valid Loss')\n",
        "plt.legend()\n",
        "plt.title('Loss Curves')\n",
        "plt.grid()\n",
        "\n",
        "plt.subplot(1, 2, 2)\n",
        "plt.plot(valid_f1_micro_list, label='Valid F1 Micro')\n",
        "plt.plot(valid_f1_macro_list, label='Valid F1 Macro')\n",
        "plt.plot(test_f1_micro_list, label='Test F1 Micro')\n",
        "plt.plot(test_f1_macro_list, label='Test F1 Macro')\n",
        "plt.legend()\n",
        "plt.title('F1 Scores')\n",
        "plt.grid()\n",
        "plt.show()"
      ]
    },
    {
      "cell_type": "markdown",
      "metadata": {
        "id": "KLhRCMiyf3tB"
      },
      "source": [
        "Заменим активацию на Softmax, а функцию потерь на кросс-энтропию, переобучим модель при тех же условиях, измерим качество и сделаем выводы о причинах его изменения:"
      ]
    },
    {
      "cell_type": "code",
      "execution_count": null,
      "metadata": {
        "id": "YkfxCP-0f3tB"
      },
      "outputs": [],
      "source": [
        "class SoftmaxModel(nn.Module):\n",
        "    def __init__(self, embedding_dim, num_labels):\n",
        "        super().__init__()\n",
        "        self.linear = nn.Linear(embedding_dim, num_labels)\n",
        "        self.activation = nn.Softmax(dim=1)\n",
        "\n",
        "    def forward(self, x):\n",
        "        return self.activation(self.linear(x))\n"
      ]
    },
    {
      "cell_type": "code",
      "execution_count": null,
      "metadata": {
        "id": "MV1syq6OE2_p"
      },
      "outputs": [],
      "source": [
        "model2 = SoftmaxModel(embedding_dim, num_labels).to(device)\n",
        "optimizer2 = torch.optim.SGD(model2.parameters(), lr=0.05)\n",
        "loss_fn2 = nn.CrossEntropyLoss()"
      ]
    },
    {
      "cell_type": "code",
      "execution_count": null,
      "metadata": {
        "id": "-pbwdN6WFiZl",
        "outputId": "0ee0f469-f808-43d3-d51d-5edb5ef1372d"
      },
      "outputs": [
        {
          "name": "stdout",
          "output_type": "stream",
          "text": [
            "Iter #0 Time 3s Train loss: 9.5521 Valid loss: 10.6989 Test F1-micro: 0.31 Test F1-macro: 0.29\n",
            "Iter #1 Time 2s Train loss: 9.2785 Valid loss: 10.6355 Test F1-micro: 0.31 Test F1-macro: 0.29\n",
            "Iter #2 Time 2s Train loss: 9.2365 Valid loss: 10.6126 Test F1-micro: 0.31 Test F1-macro: 0.29\n",
            "Iter #3 Time 2s Train loss: 9.2168 Valid loss: 10.5968 Test F1-micro: 0.31 Test F1-macro: 0.29\n",
            "Iter #4 Time 2s Train loss: 9.2040 Valid loss: 10.5861 Test F1-micro: 0.31 Test F1-macro: 0.29\n",
            "Iter #5 Time 3s Train loss: 9.1951 Valid loss: 10.5786 Test F1-micro: 0.29 Test F1-macro: 0.30\n",
            "Iter #6 Time 2s Train loss: 9.1885 Valid loss: 10.5727 Test F1-micro: 0.29 Test F1-macro: 0.30\n",
            "Iter #7 Time 2s Train loss: 9.1832 Valid loss: 10.5675 Test F1-micro: 0.29 Test F1-macro: 0.30\n",
            "Iter #8 Time 2s Train loss: 9.1789 Valid loss: 10.5630 Test F1-micro: 0.29 Test F1-macro: 0.30\n",
            "Iter #9 Time 2s Train loss: 9.1754 Valid loss: 10.5593 Test F1-micro: 0.29 Test F1-macro: 0.30\n",
            "Iter #10 Time 3s Train loss: 9.1723 Valid loss: 10.5559 Test F1-micro: 0.28 Test F1-macro: 0.30\n",
            "Iter #11 Time 2s Train loss: 9.1697 Valid loss: 10.5532 Test F1-micro: 0.28 Test F1-macro: 0.30\n",
            "Iter #12 Time 2s Train loss: 9.1675 Valid loss: 10.5508 Test F1-micro: 0.28 Test F1-macro: 0.30\n",
            "Iter #13 Time 2s Train loss: 9.1654 Valid loss: 10.5485 Test F1-micro: 0.28 Test F1-macro: 0.30\n",
            "Iter #14 Time 2s Train loss: 9.1638 Valid loss: 10.5467 Test F1-micro: 0.28 Test F1-macro: 0.30\n",
            "Iter #15 Time 3s Train loss: 9.1621 Valid loss: 10.5449 Test F1-micro: 0.29 Test F1-macro: 0.31\n",
            "Iter #16 Time 2s Train loss: 9.1606 Valid loss: 10.5434 Test F1-micro: 0.29 Test F1-macro: 0.31\n",
            "Iter #17 Time 2s Train loss: 9.1593 Valid loss: 10.5421 Test F1-micro: 0.29 Test F1-macro: 0.31\n",
            "Iter #18 Time 2s Train loss: 9.1579 Valid loss: 10.5407 Test F1-micro: 0.29 Test F1-macro: 0.31\n",
            "Iter #19 Time 3s Train loss: 9.1567 Valid loss: 10.5393 Test F1-micro: 0.30 Test F1-macro: 0.31\n"
          ]
        }
      ],
      "source": [
        "train_loss_list, valid_loss_list = [], []\n",
        "valid_f1_micro_list, valid_f1_macro_list = [], []\n",
        "test_f1_micro_list, test_f1_macro_list = [], []\n",
        "\n",
        "best_f1_micro = 0\n",
        "best_model_state = None\n",
        "best_thresholds = None\n",
        "\n",
        "for epoch in range(num_epochs):\n",
        "    timestamp_start = time.time()\n",
        "    model2.train()\n",
        "    running_loss = 0.0\n",
        "    num_batches = 0\n",
        "\n",
        "    for i, (X_batch, y_batch) in enumerate(train_dataloader):\n",
        "        X_batch = X_batch.to(device)\n",
        "        y_batch = y_batch.to(device)\n",
        "        optimizer2.zero_grad()\n",
        "        outputs = model2(X_batch)\n",
        "        loss = loss_fn2(outputs, y_batch)\n",
        "        loss.backward()\n",
        "        optimizer2.step()\n",
        "        running_loss += loss.item()\n",
        "        num_batches += 1\n",
        "\n",
        "    # Валидация\n",
        "    model2.eval()\n",
        "    valid_preds = []\n",
        "    valid_labels = []\n",
        "\n",
        "    with torch.no_grad():\n",
        "        valid_loss = 0\n",
        "        for X_batch, y_batch in valid_dataloader:\n",
        "            X_batch = X_batch.to(device)\n",
        "            y_batch = y_batch.to(device)\n",
        "            outputs = model2(X_batch)\n",
        "            valid_loss += loss_fn2(outputs, y_batch).item()\n",
        "            valid_preds.append(outputs.cpu().numpy())\n",
        "            valid_labels.append(y_batch.cpu().numpy())\n",
        "\n",
        "        valid_loss = valid_loss / len(valid_dataloader)\n",
        "        valid_loss_list.append(valid_loss)\n",
        "\n",
        "        valid_preds = np.vstack(valid_preds)\n",
        "        valid_labels = np.vstack(valid_labels)\n",
        "        #Оптимизация порогов каждые 5 эпох и на последней\n",
        "        if epoch % 5 == 0 or epoch == num_epochs - 1:\n",
        "            best_thresholds = calculate_best_thresholds_torch(valid_preds, valid_labels)\n",
        "\n",
        "            # Валидационные\n",
        "            valid_pred_binary = (valid_preds >= best_thresholds).astype(int)\n",
        "            f1_micro = f1_score(valid_labels, valid_pred_binary, average='micro')\n",
        "            f1_macro = f1_score(valid_labels, valid_pred_binary, average='macro')\n",
        "            valid_f1_micro_list.append(f1_micro)\n",
        "            valid_f1_macro_list.append(f1_macro)\n",
        "            # Тестовые\n",
        "            test_preds = []\n",
        "            test_labels = []\n",
        "            for X_batch, y_batch in test_dataloader:\n",
        "                X_batch = X_batch.to(device)\n",
        "                outputs = model2(X_batch)\n",
        "                test_preds.append(outputs.cpu().numpy())\n",
        "                test_labels.append(y_batch.cpu().numpy())\n",
        "\n",
        "            test_preds = np.vstack(test_preds)\n",
        "            test_labels = np.vstack(test_labels)\n",
        "            test_pred_binary = (test_preds >= best_thresholds).astype(int)\n",
        "\n",
        "            f1_test_micro = f1_score(test_labels, test_pred_binary, average='micro')\n",
        "            f1_test_macro = f1_score(test_labels, test_pred_binary, average='macro')\n",
        "            test_f1_micro_list.append(f1_test_micro)\n",
        "            test_f1_macro_list.append(f1_test_macro)\n",
        "\n",
        "            # Лучшая модель\n",
        "            if f1_micro > best_f1_micro:\n",
        "                best_f1_micro = f1_micro\n",
        "                best_model_state = model2.state_dict()\n",
        "                best_thresholds_final = best_thresholds\n",
        "\n",
        "    train_loss = running_loss / num_batches\n",
        "    train_loss_list.append(train_loss)\n",
        "    print(f'Iter #{epoch} '\n",
        "        f'Time {round(time.time() - timestamp_start)}s '\n",
        "        f'Train loss: {train_loss_list[-1]:.4f} '\n",
        "        f'Valid loss: {valid_loss_list[-1]:.4f} '\n",
        "        f'Test F1-micro: {test_f1_micro_list[-1] if test_f1_micro_list else 0:.2f} '\n",
        "        f'Test F1-macro: {test_f1_macro_list[-1] if test_f1_macro_list else 0:.2f}'\n",
        "      )"
      ]
    },
    {
      "cell_type": "code",
      "execution_count": null,
      "metadata": {
        "id": "Sf88hlGCQvqV",
        "outputId": "5290d46d-8340-4434-c836-d8ffedeac1af"
      },
      "outputs": [
        {
          "name": "stdout",
          "output_type": "stream",
          "text": [
            "\n",
            "Final Test Results with Best Model:\n",
            "F1-micro: 0.2952\n",
            "F1-macro: 0.3070\n"
          ]
        },
        {
          "data": {
            "image/png": "[encoded data removed]",
            "text/plain": [
              "<Figure size 1200x400 with 2 Axes>"
            ]
          },
          "metadata": {},
          "output_type": "display_data"
        }
      ],
      "source": [
        "import matplotlib.pyplot as plt\n",
        "\n",
        "model2.load_state_dict(best_model_state)\n",
        "model2.eval()\n",
        "\n",
        "# Final threshold optimization on validation\n",
        "valid_preds = []\n",
        "valid_labels = []\n",
        "with torch.no_grad():\n",
        "    for X_batch, y_batch in valid_dataloader:\n",
        "        X_batch = X_batch.to(device)\n",
        "        outputs = model2(X_batch)\n",
        "        valid_preds.append(outputs.cpu().numpy())\n",
        "        valid_labels.append(y_batch.cpu().numpy())\n",
        "\n",
        "valid_preds = np.vstack(valid_preds)\n",
        "valid_labels = np.vstack(valid_labels)\n",
        "final_thresholds = calculate_best_thresholds_torch(valid_preds, valid_labels)\n",
        "\n",
        "# Final test evaluation\n",
        "test_preds = []\n",
        "test_labels = []\n",
        "with torch.no_grad():\n",
        "    for X_batch, y_batch in test_dataloader:\n",
        "        X_batch = X_batch.to(device)\n",
        "        outputs = model2(X_batch)\n",
        "        test_preds.append(outputs.cpu().numpy())\n",
        "        test_labels.append(y_batch.cpu().numpy())\n",
        "\n",
        "test_preds = np.vstack(test_preds)\n",
        "test_labels = np.vstack(test_labels)\n",
        "test_pred_binary = (test_preds >= final_thresholds).astype(int)\n",
        "\n",
        "final_f1_micro = f1_score(test_labels, test_pred_binary, average='micro')\n",
        "final_f1_macro = f1_score(test_labels, test_pred_binary, average='macro')\n",
        "\n",
        "print(f'\\nFinal Test Results with Best Model:')\n",
        "print(f'F1-micro: {final_f1_micro:.4f}')\n",
        "print(f'F1-macro: {final_f1_macro:.4f}')\n",
        "\n",
        "# Plotting\n",
        "plt.figure(figsize=(12, 4))\n",
        "plt.subplot(1, 2, 1)\n",
        "plt.plot(train_loss_list, label='Train Loss')\n",
        "plt.plot(valid_loss_list, label='Valid Loss')\n",
        "plt.legend()\n",
        "plt.title('Loss Curves Softmax')\n",
        "plt.grid()\n",
        "\n",
        "plt.subplot(1, 2, 2)\n",
        "plt.plot(valid_f1_micro_list, label='Valid F1 Micro')\n",
        "plt.plot(valid_f1_macro_list, label='Valid F1 Macro')\n",
        "plt.plot(test_f1_micro_list, label='Test F1 Micro')\n",
        "plt.plot(test_f1_macro_list, label='Test F1 Macro')\n",
        "plt.legend()\n",
        "plt.title('F1 Scores Softmax')\n",
        "plt.grid()\n",
        "plt.show()"
      ]
    },
    {
      "cell_type": "markdown",
      "metadata": {
        "id": "KNkFk6-vQvqV"
      },
      "source": [
        "__Вывод__: Использование Softmax и кросс-энтропии в многометочной задаче приводит к плохой производительности модели. Высокие значения лосса указывают на неспособность модели эффективно предсказывать несколько меток одновременно. Кросс-энтропия с Softmax предназначена для задач одноклассовой классификации, где требуется выбрать один правильный класс. Модель не учитывает независимость меток. Тренировочные потери снижаются до 9.2, тогда как валидационные стабилизируются на 10.4. Это указывает на переобучение: модель подстраивается под тренировочные данные, но не обобщает на валидационные из-за неподходящего выбора функции потерь и активации.\n",
        "\n",
        "\n",
        "\n",
        "\n",
        "\n",
        "\n",
        "\n",
        "\n",
        "\n"
      ]
    },
    {
      "cell_type": "markdown",
      "metadata": {
        "id": "Lzifzlsmf3tB"
      },
      "source": [
        "теперь попробуем провести ряд экспериментов по улучшению качества работы модели, а именно попробовать следующие идеи:\n",
        "\n",
        "- варьирование числа и размера линейных слоёв\n",
        "- использование различных функций активации между слоями\n",
        "- выбор другого оптимизатора, варьирование его важных гиперпараметров\n",
        "- замена векторизатора на BERT\n",
        "\n",
        "Эксперименты будут подкреплены понятными графиками, таблицами, пояснениями причин такого выбора гиперпараметров и выводов на основе проделанной работы."
      ]
    },
    {
      "cell_type": "code",
      "execution_count": null,
      "metadata": {
        "id": "Asw8Y4DSf3tB"
      },
      "outputs": [],
      "source": [
        "class Model(nn.Module):\n",
        "    def __init__(self, embedding_dim, num_labels, activation_class, hidden_dims=None):\n",
        "        super().__init__()\n",
        "        layers = []\n",
        "        in_dim = embedding_dim\n",
        "        if hidden_dims is None or len(hidden_dims) == 0:\n",
        "            layers.append(nn.Linear(in_dim, num_labels))\n",
        "        else:\n",
        "            for h_dim in hidden_dims:\n",
        "                layers.append(nn.Linear(in_dim, h_dim))\n",
        "                layers.append(activation_class())\n",
        "                in_dim = h_dim\n",
        "            layers.append(nn.Linear(in_dim, num_labels))\n",
        "\n",
        "        self.network = nn.Sequential(*layers)\n",
        "        self.out_activation = nn.Sigmoid()\n",
        "\n",
        "    def forward(self, x):\n",
        "        x = self.network(x)\n",
        "        return self.out_activation(x)"
      ]
    },
    {
      "cell_type": "code",
      "execution_count": null,
      "metadata": {
        "id": "AHHHfSJGf3tB"
      },
      "outputs": [],
      "source": [
        "def train_and_evaluate(model, optimizer, loss_fn, train_loader, valid_loader, test_loader, num_epochs=20, device='cuda'):\n",
        "    model.to(device)\n",
        "    best_f1_macro = 0\n",
        "    history = {'train_loss': [], 'valid_loss': [], 'test_f1_macro': [], 'test_f1_micro': []}\n",
        "\n",
        "    for epoch in range(num_epochs):\n",
        "        start_time = time.time()\n",
        "        model.train()\n",
        "        running_loss = 0.0\n",
        "        num_batches = 0\n",
        "\n",
        "        for X_batch, y_batch in train_loader:\n",
        "            X_batch = X_batch.to(device)\n",
        "            y_batch = y_batch.to(device)\n",
        "            optimizer.zero_grad()\n",
        "            outputs = model(X_batch)\n",
        "            loss = loss_fn(outputs, y_batch)\n",
        "            loss.backward()\n",
        "            optimizer.step()\n",
        "            running_loss += loss.item()\n",
        "            num_batches += 1\n",
        "\n",
        "        train_loss = running_loss / num_batches\n",
        "        history['train_loss'].append(train_loss)\n",
        "\n",
        "        # Валидация\n",
        "        model.eval()\n",
        "        valid_preds, valid_labels = [], []\n",
        "        with torch.no_grad():\n",
        "            valid_loss = 0.0\n",
        "            for X_batch, y_batch in valid_loader:\n",
        "                X_batch = X_batch.to(device)\n",
        "                y_batch = y_batch.to(device)\n",
        "                outputs = model(X_batch)\n",
        "                valid_loss += loss_fn(outputs, y_batch).item()\n",
        "                valid_preds.append(outputs.cpu().numpy())\n",
        "                valid_labels.append(y_batch.cpu().numpy())\n",
        "            valid_loss /= len(valid_loader)\n",
        "            history['valid_loss'].append(valid_loss)\n",
        "\n",
        "            valid_preds = np.vstack(valid_preds)\n",
        "            valid_labels = np.vstack(valid_labels)\n",
        "            if epoch % 3 == 0 or epoch == num_epochs - 1:\n",
        "                best_thresholds = calculate_best_thresholds_torch(valid_preds, valid_labels, step=0.1)\n",
        "                valid_pred_bin = (valid_preds >= best_thresholds).astype(int)\n",
        "                f1_macro_val = f1_score(valid_labels, valid_pred_bin, average='macro')\n",
        "                f1_micro_val = f1_score(valid_labels, valid_pred_bin, average='micro')\n",
        "\n",
        "        # Тестовая оценка\n",
        "        with torch.no_grad():\n",
        "            test_preds, test_labels = [], []\n",
        "            for X_batch, y_batch in test_loader:\n",
        "                X_batch = X_batch.to(device)\n",
        "                outputs = model(X_batch)\n",
        "                test_preds.append(outputs.cpu().numpy())\n",
        "                test_labels.append(y_batch.cpu().numpy())\n",
        "            test_preds = np.vstack(test_preds)\n",
        "            test_labels = np.vstack(test_labels)\n",
        "            test_pred_bin = (test_preds >= best_thresholds).astype(int)\n",
        "            f1_macro_test = f1_score(test_labels, test_pred_bin, average='macro')\n",
        "            f1_micro_test = f1_score(test_labels, test_pred_bin, average='micro')\n",
        "            history['test_f1_macro'].append(f1_macro_test)\n",
        "            history['test_f1_micro'].append(f1_micro_test)\n",
        "\n",
        "        print(f\"Epoch {epoch+1}/{num_epochs} | \"\n",
        "              f\"Time: {round(time.time()-start_time)}s | \"\n",
        "              f\"Train loss: {train_loss:.4f} | Valid loss: {valid_loss:.4f} | \"\n",
        "              f\"Valid F1(macro): {f1_macro_val:.3f} | \"\n",
        "              f\"Test F1(macro): {f1_macro_test:.3f}\")\n",
        "\n",
        "    return history"
      ]
    },
    {
      "cell_type": "code",
      "execution_count": null,
      "metadata": {
        "id": "0GCqmOP6QvqW"
      },
      "outputs": [],
      "source": [
        "exp = [\n",
        "    {\n",
        "        'name': 'Single layer + ReLU',\n",
        "        'hidden_dims': None,\n",
        "        'activation': nn.ReLU,\n",
        "        'optimizer': 'SGD',\n",
        "        'lr': 0.05\n",
        "    },\n",
        "    {\n",
        "        'name': 'Two layers (128, 64) + ReLU',\n",
        "        'hidden_dims': [128, 64],\n",
        "        'activation': nn.ReLU,\n",
        "        'optimizer': 'Adam',\n",
        "        'lr': 1e-3\n",
        "    },\n",
        "    {\n",
        "        'name': 'Two layers (256, 128) + Sigmoid',\n",
        "        'hidden_dims': [256, 128],\n",
        "        'activation': nn.Sigmoid,\n",
        "        'optimizer': 'Adam',\n",
        "        'lr': 1e-3\n",
        "    },\n",
        "    {\n",
        "        'name': 'BERT vectors + Two layers (128, 64) + ReLU',\n",
        "        'hidden_dims': [128, 64],\n",
        "        'activation': nn.ReLU,\n",
        "        'optimizer': 'Adam',\n",
        "        'lr': 1e-3,\n",
        "    },\n",
        "    {\n",
        "        'name': 'BERT vectors + Two layers (256, 128) + Sigmoid',\n",
        "        'hidden_dims': [256, 128],\n",
        "        'activation': nn.Sigmoid,\n",
        "        'optimizer': 'Adam',\n",
        "        'lr': 1e-3,\n",
        "    },\n",
        "    {\n",
        "        'name': 'Three layers (512, 256, 128) + ReLU',\n",
        "        'hidden_dims': [512, 256, 128],\n",
        "        'activation': nn.ReLU,\n",
        "        'optimizer': 'SGD',\n",
        "        'lr': 0.05,\n",
        "    },\n",
        "    {\n",
        "        'name': 'Three layers (512, 256, 128) + Sigmoid',\n",
        "        'hidden_dims': [512, 256, 128],\n",
        "        'activation': nn.Sigmoid,\n",
        "        'optimizer': 'Adam',\n",
        "        'lr': 1e-3,\n",
        "    }\n",
        "]"
      ]
    },
    {
      "cell_type": "code",
      "execution_count": null,
      "metadata": {
        "id": "RFJ-F2qyQvqX"
      },
      "outputs": [],
      "source": [
        "results = {}"
      ]
    },
    {
      "cell_type": "code",
      "execution_count": null,
      "metadata": {
        "id": "SPBOnb0JQvqX"
      },
      "outputs": [],
      "source": [
        "model_0 = Model(embedding_dim=X_train.shape[1],\n",
        "                      num_labels=y_train.shape[1],\n",
        "                      activation_class=exp[0]['activation'],\n",
        "                      hidden_dims=exp[0]['hidden_dims'])\n",
        "optimizer_0 = torch.optim.SGD(model_0.parameters(), lr=exp[0]['lr'])\n",
        "loss_fn = nn.BCELoss()"
      ]
    },
    {
      "cell_type": "code",
      "execution_count": null,
      "metadata": {
        "id": "lp3WxIaBQvqX",
        "outputId": "a80520b6-991f-414f-96f8-02b974ef82f2"
      },
      "outputs": [
        {
          "name": "stdout",
          "output_type": "stream",
          "text": [
            "Epoch 1/20 | Time: 5s | Train loss: 0.2095 | Valid loss: 0.2986 | Valid F1(macro): 0.576 | Test F1(macro): 0.537\n",
            "Epoch 2/20 | Time: 4s | Train loss: 0.2089 | Valid loss: 0.2986 | Valid F1(macro): 0.576 | Test F1(macro): 0.538\n",
            "Epoch 3/20 | Time: 4s | Train loss: 0.2083 | Valid loss: 0.2984 | Valid F1(macro): 0.576 | Test F1(macro): 0.539\n",
            "Epoch 4/20 | Time: 4s | Train loss: 0.2078 | Valid loss: 0.2983 | Valid F1(macro): 0.578 | Test F1(macro): 0.540\n",
            "Epoch 5/20 | Time: 3s | Train loss: 0.2074 | Valid loss: 0.2982 | Valid F1(macro): 0.578 | Test F1(macro): 0.540\n",
            "Epoch 6/20 | Time: 3s | Train loss: 0.2069 | Valid loss: 0.2998 | Valid F1(macro): 0.578 | Test F1(macro): 0.540\n",
            "Epoch 7/20 | Time: 4s | Train loss: 0.2065 | Valid loss: 0.2990 | Valid F1(macro): 0.580 | Test F1(macro): 0.539\n",
            "Epoch 8/20 | Time: 3s | Train loss: 0.2061 | Valid loss: 0.3011 | Valid F1(macro): 0.580 | Test F1(macro): 0.540\n",
            "Epoch 9/20 | Time: 3s | Train loss: 0.2057 | Valid loss: 0.3004 | Valid F1(macro): 0.580 | Test F1(macro): 0.541\n",
            "Epoch 10/20 | Time: 4s | Train loss: 0.2055 | Valid loss: 0.3012 | Valid F1(macro): 0.582 | Test F1(macro): 0.544\n",
            "Epoch 11/20 | Time: 4s | Train loss: 0.2052 | Valid loss: 0.3011 | Valid F1(macro): 0.582 | Test F1(macro): 0.545\n",
            "Epoch 12/20 | Time: 3s | Train loss: 0.2049 | Valid loss: 0.3010 | Valid F1(macro): 0.582 | Test F1(macro): 0.545\n",
            "Epoch 13/20 | Time: 3s | Train loss: 0.2047 | Valid loss: 0.3018 | Valid F1(macro): 0.584 | Test F1(macro): 0.546\n",
            "Epoch 14/20 | Time: 3s | Train loss: 0.2044 | Valid loss: 0.3026 | Valid F1(macro): 0.584 | Test F1(macro): 0.546\n",
            "Epoch 15/20 | Time: 3s | Train loss: 0.2042 | Valid loss: 0.3026 | Valid F1(macro): 0.584 | Test F1(macro): 0.546\n",
            "Epoch 16/20 | Time: 3s | Train loss: 0.2039 | Valid loss: 0.3017 | Valid F1(macro): 0.585 | Test F1(macro): 0.546\n",
            "Epoch 17/20 | Time: 3s | Train loss: 0.2037 | Valid loss: 0.3025 | Valid F1(macro): 0.585 | Test F1(macro): 0.547\n",
            "Epoch 18/20 | Time: 3s | Train loss: 0.2034 | Valid loss: 0.3024 | Valid F1(macro): 0.585 | Test F1(macro): 0.547\n",
            "Epoch 19/20 | Time: 3s | Train loss: 0.2031 | Valid loss: 0.3025 | Valid F1(macro): 0.586 | Test F1(macro): 0.547\n",
            "Epoch 20/20 | Time: 3s | Train loss: 0.2029 | Valid loss: 0.3032 | Valid F1(macro): 0.586 | Test F1(macro): 0.548\n"
          ]
        }
      ],
      "source": [
        "history = train_and_evaluate(model_0, optimizer_0, loss_fn, train_dataloader, valid_dataloader, test_dataloader, num_epochs=20, device='cuda:0')\n",
        "results[exp[0]['name']] = history"
      ]
    },
    {
      "cell_type": "code",
      "execution_count": null,
      "metadata": {
        "id": "7fMtsWKyQvqX",
        "outputId": "4f5cb876-26fe-47dc-c2ed-714dfe58327d"
      },
      "outputs": [
        {
          "name": "stdout",
          "output_type": "stream",
          "text": [
            "Epoch 1/20 | Time: 8s | Train loss: 0.2365 | Valid loss: 0.2290 | Valid F1(macro): 0.595 | Test F1(macro): 0.548\n",
            "Epoch 2/20 | Time: 6s | Train loss: 0.1719 | Valid loss: 0.2196 | Valid F1(macro): 0.595 | Test F1(macro): 0.573\n",
            "Epoch 3/20 | Time: 5s | Train loss: 0.1551 | Valid loss: 0.2174 | Valid F1(macro): 0.595 | Test F1(macro): 0.579\n",
            "Epoch 4/20 | Time: 6s | Train loss: 0.1452 | Valid loss: 0.2216 | Valid F1(macro): 0.640 | Test F1(macro): 0.584\n",
            "Epoch 5/20 | Time: 5s | Train loss: 0.1382 | Valid loss: 0.2259 | Valid F1(macro): 0.640 | Test F1(macro): 0.581\n",
            "Epoch 6/20 | Time: 5s | Train loss: 0.1324 | Valid loss: 0.2301 | Valid F1(macro): 0.640 | Test F1(macro): 0.583\n",
            "Epoch 7/20 | Time: 6s | Train loss: 0.1281 | Valid loss: 0.2337 | Valid F1(macro): 0.648 | Test F1(macro): 0.588\n",
            "Epoch 8/20 | Time: 5s | Train loss: 0.1239 | Valid loss: 0.2424 | Valid F1(macro): 0.648 | Test F1(macro): 0.577\n",
            "Epoch 9/20 | Time: 5s | Train loss: 0.1211 | Valid loss: 0.2470 | Valid F1(macro): 0.648 | Test F1(macro): 0.574\n",
            "Epoch 10/20 | Time: 6s | Train loss: 0.1183 | Valid loss: 0.2472 | Valid F1(macro): 0.644 | Test F1(macro): 0.585\n",
            "Epoch 11/20 | Time: 5s | Train loss: 0.1155 | Valid loss: 0.2613 | Valid F1(macro): 0.644 | Test F1(macro): 0.581\n",
            "Epoch 12/20 | Time: 7s | Train loss: 0.1136 | Valid loss: 0.2688 | Valid F1(macro): 0.644 | Test F1(macro): 0.573\n",
            "Epoch 13/20 | Time: 6s | Train loss: 0.1117 | Valid loss: 0.2709 | Valid F1(macro): 0.636 | Test F1(macro): 0.578\n",
            "Epoch 14/20 | Time: 5s | Train loss: 0.1097 | Valid loss: 0.2798 | Valid F1(macro): 0.636 | Test F1(macro): 0.588\n",
            "Epoch 15/20 | Time: 5s | Train loss: 0.1084 | Valid loss: 0.2855 | Valid F1(macro): 0.636 | Test F1(macro): 0.575\n",
            "Epoch 16/20 | Time: 6s | Train loss: 0.1068 | Valid loss: 0.2919 | Valid F1(macro): 0.640 | Test F1(macro): 0.578\n",
            "Epoch 17/20 | Time: 5s | Train loss: 0.1053 | Valid loss: 0.2978 | Valid F1(macro): 0.640 | Test F1(macro): 0.581\n",
            "Epoch 18/20 | Time: 5s | Train loss: 0.1040 | Valid loss: 0.2977 | Valid F1(macro): 0.640 | Test F1(macro): 0.568\n",
            "Epoch 19/20 | Time: 6s | Train loss: 0.1029 | Valid loss: 0.3109 | Valid F1(macro): 0.640 | Test F1(macro): 0.584\n",
            "Epoch 20/20 | Time: 6s | Train loss: 0.1020 | Valid loss: 0.3132 | Valid F1(macro): 0.636 | Test F1(macro): 0.582\n"
          ]
        }
      ],
      "source": [
        "model_1 = Model(embedding_dim=X_train.shape[1],\n",
        "                      num_labels=y_train.shape[1],\n",
        "                      activation_class=exp[1]['activation'],\n",
        "                      hidden_dims=exp[1]['hidden_dims'])\n",
        "optimizer_1 = torch.optim.Adam(model_1.parameters(), lr=exp[1]['lr'])\n",
        "loss_fn = nn.BCELoss()\n",
        "history = train_and_evaluate(model_1, optimizer_1, loss_fn, train_dataloader, valid_dataloader, test_dataloader, num_epochs=20, device='cuda:0')\n",
        "results[exp[1]['name']] = history"
      ]
    },
    {
      "cell_type": "code",
      "execution_count": null,
      "metadata": {
        "id": "7IZk61p7QvqY",
        "outputId": "61d98156-79f7-4368-8a18-f0bddb8b35fa"
      },
      "outputs": [
        {
          "name": "stdout",
          "output_type": "stream",
          "text": [
            "Epoch 1/20 | Time: 8s | Train loss: 0.2452 | Valid loss: 0.2377 | Valid F1(macro): 0.552 | Test F1(macro): 0.512\n",
            "Epoch 2/20 | Time: 5s | Train loss: 0.1841 | Valid loss: 0.2140 | Valid F1(macro): 0.552 | Test F1(macro): 0.551\n",
            "Epoch 3/20 | Time: 5s | Train loss: 0.1672 | Valid loss: 0.2033 | Valid F1(macro): 0.552 | Test F1(macro): 0.563\n",
            "Epoch 4/20 | Time: 6s | Train loss: 0.1570 | Valid loss: 0.2013 | Valid F1(macro): 0.635 | Test F1(macro): 0.595\n",
            "Epoch 5/20 | Time: 5s | Train loss: 0.1492 | Valid loss: 0.1968 | Valid F1(macro): 0.635 | Test F1(macro): 0.595\n",
            "Epoch 6/20 | Time: 5s | Train loss: 0.1428 | Valid loss: 0.1967 | Valid F1(macro): 0.635 | Test F1(macro): 0.603\n",
            "Epoch 7/20 | Time: 6s | Train loss: 0.1371 | Valid loss: 0.1916 | Valid F1(macro): 0.657 | Test F1(macro): 0.612\n",
            "Epoch 8/20 | Time: 5s | Train loss: 0.1320 | Valid loss: 0.1932 | Valid F1(macro): 0.657 | Test F1(macro): 0.606\n",
            "Epoch 9/20 | Time: 5s | Train loss: 0.1273 | Valid loss: 0.1932 | Valid F1(macro): 0.657 | Test F1(macro): 0.611\n",
            "Epoch 10/20 | Time: 6s | Train loss: 0.1227 | Valid loss: 0.1918 | Valid F1(macro): 0.661 | Test F1(macro): 0.612\n",
            "Epoch 11/20 | Time: 6s | Train loss: 0.1186 | Valid loss: 0.1913 | Valid F1(macro): 0.661 | Test F1(macro): 0.610\n",
            "Epoch 12/20 | Time: 6s | Train loss: 0.1146 | Valid loss: 0.1978 | Valid F1(macro): 0.661 | Test F1(macro): 0.602\n",
            "Epoch 13/20 | Time: 6s | Train loss: 0.1108 | Valid loss: 0.1999 | Valid F1(macro): 0.659 | Test F1(macro): 0.609\n",
            "Epoch 14/20 | Time: 5s | Train loss: 0.1072 | Valid loss: 0.1960 | Valid F1(macro): 0.659 | Test F1(macro): 0.604\n",
            "Epoch 15/20 | Time: 5s | Train loss: 0.1037 | Valid loss: 0.1987 | Valid F1(macro): 0.659 | Test F1(macro): 0.607\n",
            "Epoch 16/20 | Time: 6s | Train loss: 0.1004 | Valid loss: 0.2010 | Valid F1(macro): 0.663 | Test F1(macro): 0.615\n",
            "Epoch 17/20 | Time: 6s | Train loss: 0.0973 | Valid loss: 0.2009 | Valid F1(macro): 0.663 | Test F1(macro): 0.605\n",
            "Epoch 18/20 | Time: 5s | Train loss: 0.0945 | Valid loss: 0.2092 | Valid F1(macro): 0.663 | Test F1(macro): 0.606\n",
            "Epoch 19/20 | Time: 6s | Train loss: 0.0916 | Valid loss: 0.2123 | Valid F1(macro): 0.665 | Test F1(macro): 0.609\n",
            "Epoch 20/20 | Time: 6s | Train loss: 0.0890 | Valid loss: 0.2190 | Valid F1(macro): 0.664 | Test F1(macro): 0.609\n"
          ]
        }
      ],
      "source": [
        "model_2 = Model(embedding_dim=X_train.shape[1],\n",
        "                      num_labels=y_train.shape[1],\n",
        "                      activation_class=exp[2]['activation'],\n",
        "                      hidden_dims=exp[2]['hidden_dims'])\n",
        "optimizer_2 = torch.optim.Adam(model_2.parameters(), lr=exp[2]['lr'])\n",
        "loss_fn = nn.BCELoss()\n",
        "history = train_and_evaluate(model_2, optimizer_2, loss_fn, train_dataloader, valid_dataloader, test_dataloader, num_epochs=20, device='cuda:0')\n",
        "results[exp[2]['name']] = history"
      ]
    },
    {
      "cell_type": "code",
      "execution_count": null,
      "metadata": {
        "id": "WZPLFDKgQvqY"
      },
      "outputs": [],
      "source": [
        "X_train = load_vectors('X_train_cls')\n",
        "X_valid = load_vectors('X_valid_cls')\n",
        "X_test = load_vectors('X_test_cls')\n",
        "\n",
        "train_dataset = Dataset(X_train, y_train)\n",
        "valid_dataset = Dataset(X_valid, y_valid)\n",
        "test_dataset = Dataset(X_test, y_test)\n",
        "\n",
        "train_dataloader = torch.utils.data.DataLoader(train_dataset, batch_size=32, shuffle=True)\n",
        "valid_dataloader = torch.utils.data.DataLoader(valid_dataset, batch_size=1024)\n",
        "test_dataloader = torch.utils.data.DataLoader(test_dataset, batch_size=1024)"
      ]
    },
    {
      "cell_type": "code",
      "execution_count": null,
      "metadata": {
        "id": "N8ljbyZDQvqY",
        "outputId": "756ae561-152b-4545-d502-bf9daad95af8"
      },
      "outputs": [
        {
          "name": "stdout",
          "output_type": "stream",
          "text": [
            "Epoch 1/20 | Time: 8s | Train loss: 0.2542 | Valid loss: 0.2525 | Valid F1(macro): 0.532 | Test F1(macro): 0.497\n",
            "Epoch 2/20 | Time: 6s | Train loss: 0.2112 | Valid loss: 0.2377 | Valid F1(macro): 0.532 | Test F1(macro): 0.518\n",
            "Epoch 3/20 | Time: 5s | Train loss: 0.1998 | Valid loss: 0.2296 | Valid F1(macro): 0.532 | Test F1(macro): 0.531\n",
            "Epoch 4/20 | Time: 6s | Train loss: 0.1929 | Valid loss: 0.2326 | Valid F1(macro): 0.584 | Test F1(macro): 0.545\n",
            "Epoch 5/20 | Time: 5s | Train loss: 0.1883 | Valid loss: 0.2311 | Valid F1(macro): 0.584 | Test F1(macro): 0.536\n",
            "Epoch 6/20 | Time: 5s | Train loss: 0.1846 | Valid loss: 0.2269 | Valid F1(macro): 0.584 | Test F1(macro): 0.539\n",
            "Epoch 7/20 | Time: 6s | Train loss: 0.1816 | Valid loss: 0.2243 | Valid F1(macro): 0.600 | Test F1(macro): 0.562\n",
            "Epoch 8/20 | Time: 5s | Train loss: 0.1790 | Valid loss: 0.2276 | Valid F1(macro): 0.600 | Test F1(macro): 0.555\n",
            "Epoch 9/20 | Time: 5s | Train loss: 0.1772 | Valid loss: 0.2244 | Valid F1(macro): 0.600 | Test F1(macro): 0.557\n",
            "Epoch 10/20 | Time: 6s | Train loss: 0.1753 | Valid loss: 0.2229 | Valid F1(macro): 0.611 | Test F1(macro): 0.569\n",
            "Epoch 11/20 | Time: 5s | Train loss: 0.1736 | Valid loss: 0.2270 | Valid F1(macro): 0.611 | Test F1(macro): 0.563\n",
            "Epoch 12/20 | Time: 5s | Train loss: 0.1721 | Valid loss: 0.2200 | Valid F1(macro): 0.611 | Test F1(macro): 0.558\n",
            "Epoch 13/20 | Time: 6s | Train loss: 0.1711 | Valid loss: 0.2296 | Valid F1(macro): 0.609 | Test F1(macro): 0.560\n",
            "Epoch 14/20 | Time: 5s | Train loss: 0.1700 | Valid loss: 0.2261 | Valid F1(macro): 0.609 | Test F1(macro): 0.566\n",
            "Epoch 15/20 | Time: 5s | Train loss: 0.1688 | Valid loss: 0.2269 | Valid F1(macro): 0.609 | Test F1(macro): 0.560\n",
            "Epoch 16/20 | Time: 6s | Train loss: 0.1680 | Valid loss: 0.2145 | Valid F1(macro): 0.620 | Test F1(macro): 0.572\n",
            "Epoch 17/20 | Time: 5s | Train loss: 0.1672 | Valid loss: 0.2205 | Valid F1(macro): 0.620 | Test F1(macro): 0.560\n",
            "Epoch 18/20 | Time: 5s | Train loss: 0.1663 | Valid loss: 0.2302 | Valid F1(macro): 0.620 | Test F1(macro): 0.545\n",
            "Epoch 19/20 | Time: 6s | Train loss: 0.1656 | Valid loss: 0.2248 | Valid F1(macro): 0.617 | Test F1(macro): 0.563\n",
            "Epoch 20/20 | Time: 6s | Train loss: 0.1649 | Valid loss: 0.2230 | Valid F1(macro): 0.618 | Test F1(macro): 0.563\n"
          ]
        }
      ],
      "source": [
        "model_3 = Model(embedding_dim=X_train.shape[1],\n",
        "                      num_labels=y_train.shape[1],\n",
        "                      activation_class=exp[3]['activation'],\n",
        "                      hidden_dims=exp[3]['hidden_dims'])\n",
        "optimizer_3 = torch.optim.Adam(model_3.parameters(), lr=exp[3]['lr'])\n",
        "loss_fn = nn.BCELoss()\n",
        "history = train_and_evaluate(model_3, optimizer_3, loss_fn, train_dataloader, valid_dataloader, test_dataloader, num_epochs=20, device='cuda:0')\n",
        "results[exp[3]['name']] = history"
      ]
    },
    {
      "cell_type": "code",
      "execution_count": null,
      "metadata": {
        "id": "ZNchUaUtQvqZ",
        "outputId": "654c0e50-bab2-4153-b619-2db8b43f90f6"
      },
      "outputs": [
        {
          "name": "stdout",
          "output_type": "stream",
          "text": [
            "Epoch 1/20 | Time: 8s | Train loss: 0.2701 | Valid loss: 0.2597 | Valid F1(macro): 0.517 | Test F1(macro): 0.480\n",
            "Epoch 2/20 | Time: 6s | Train loss: 0.2180 | Valid loss: 0.2423 | Valid F1(macro): 0.517 | Test F1(macro): 0.510\n",
            "Epoch 3/20 | Time: 5s | Train loss: 0.2037 | Valid loss: 0.2309 | Valid F1(macro): 0.517 | Test F1(macro): 0.518\n",
            "Epoch 4/20 | Time: 6s | Train loss: 0.1941 | Valid loss: 0.2252 | Valid F1(macro): 0.590 | Test F1(macro): 0.546\n",
            "Epoch 5/20 | Time: 5s | Train loss: 0.1874 | Valid loss: 0.2232 | Valid F1(macro): 0.590 | Test F1(macro): 0.545\n",
            "Epoch 6/20 | Time: 6s | Train loss: 0.1819 | Valid loss: 0.2149 | Valid F1(macro): 0.590 | Test F1(macro): 0.562\n",
            "Epoch 7/20 | Time: 6s | Train loss: 0.1773 | Valid loss: 0.2180 | Valid F1(macro): 0.611 | Test F1(macro): 0.563\n",
            "Epoch 8/20 | Time: 6s | Train loss: 0.1736 | Valid loss: 0.2134 | Valid F1(macro): 0.611 | Test F1(macro): 0.575\n",
            "Epoch 9/20 | Time: 6s | Train loss: 0.1702 | Valid loss: 0.2147 | Valid F1(macro): 0.611 | Test F1(macro): 0.566\n",
            "Epoch 10/20 | Time: 6s | Train loss: 0.1671 | Valid loss: 0.2133 | Valid F1(macro): 0.619 | Test F1(macro): 0.573\n",
            "Epoch 11/20 | Time: 6s | Train loss: 0.1646 | Valid loss: 0.2135 | Valid F1(macro): 0.619 | Test F1(macro): 0.566\n",
            "Epoch 12/20 | Time: 6s | Train loss: 0.1621 | Valid loss: 0.2109 | Valid F1(macro): 0.619 | Test F1(macro): 0.571\n",
            "Epoch 13/20 | Time: 6s | Train loss: 0.1599 | Valid loss: 0.2119 | Valid F1(macro): 0.632 | Test F1(macro): 0.576\n",
            "Epoch 14/20 | Time: 6s | Train loss: 0.1578 | Valid loss: 0.2139 | Valid F1(macro): 0.632 | Test F1(macro): 0.571\n",
            "Epoch 15/20 | Time: 6s | Train loss: 0.1558 | Valid loss: 0.2117 | Valid F1(macro): 0.632 | Test F1(macro): 0.579\n",
            "Epoch 16/20 | Time: 6s | Train loss: 0.1540 | Valid loss: 0.2089 | Valid F1(macro): 0.635 | Test F1(macro): 0.589\n",
            "Epoch 17/20 | Time: 6s | Train loss: 0.1522 | Valid loss: 0.2094 | Valid F1(macro): 0.635 | Test F1(macro): 0.583\n",
            "Epoch 18/20 | Time: 6s | Train loss: 0.1505 | Valid loss: 0.2113 | Valid F1(macro): 0.635 | Test F1(macro): 0.584\n",
            "Epoch 19/20 | Time: 6s | Train loss: 0.1490 | Valid loss: 0.2104 | Valid F1(macro): 0.638 | Test F1(macro): 0.595\n",
            "Epoch 20/20 | Time: 7s | Train loss: 0.1475 | Valid loss: 0.2110 | Valid F1(macro): 0.636 | Test F1(macro): 0.583\n"
          ]
        }
      ],
      "source": [
        "model_4 = Model(embedding_dim=X_train.shape[1],\n",
        "                      num_labels=y_train.shape[1],\n",
        "                      activation_class=exp[4]['activation'],\n",
        "                      hidden_dims=exp[4]['hidden_dims'])\n",
        "optimizer_4 = torch.optim.Adam(model_4.parameters(), lr=exp[4]['lr'])\n",
        "loss_fn = nn.BCELoss()\n",
        "history = train_and_evaluate(model_4, optimizer_4, loss_fn, train_dataloader, valid_dataloader, test_dataloader, num_epochs=20, device='cuda:0')\n",
        "results[exp[4]['name']] = history"
      ]
    },
    {
      "cell_type": "code",
      "execution_count": null,
      "metadata": {
        "id": "KVzdH7IbQvqZ",
        "outputId": "5cc19043-8551-42af-f97f-4dbb263ae309"
      },
      "outputs": [
        {
          "name": "stdout",
          "output_type": "stream",
          "text": [
            "Epoch 1/20 | Time: 10s | Train loss: 0.4008 | Valid loss: 0.3847 | Valid F1(macro): 0.310 | Test F1(macro): 0.301\n",
            "Epoch 2/20 | Time: 6s | Train loss: 0.3188 | Valid loss: 0.3606 | Valid F1(macro): 0.310 | Test F1(macro): 0.310\n",
            "Epoch 3/20 | Time: 6s | Train loss: 0.2984 | Valid loss: 0.3415 | Valid F1(macro): 0.310 | Test F1(macro): 0.325\n",
            "Epoch 4/20 | Time: 6s | Train loss: 0.2784 | Valid loss: 0.3203 | Valid F1(macro): 0.399 | Test F1(macro): 0.382\n",
            "Epoch 5/20 | Time: 6s | Train loss: 0.2552 | Valid loss: 0.2971 | Valid F1(macro): 0.399 | Test F1(macro): 0.402\n",
            "Epoch 6/20 | Time: 5s | Train loss: 0.2344 | Valid loss: 0.2761 | Valid F1(macro): 0.399 | Test F1(macro): 0.430\n",
            "Epoch 7/20 | Time: 6s | Train loss: 0.2180 | Valid loss: 0.2615 | Valid F1(macro): 0.501 | Test F1(macro): 0.468\n",
            "Epoch 8/20 | Time: 6s | Train loss: 0.2061 | Valid loss: 0.2513 | Valid F1(macro): 0.501 | Test F1(macro): 0.490\n",
            "Epoch 9/20 | Time: 6s | Train loss: 0.1966 | Valid loss: 0.2434 | Valid F1(macro): 0.501 | Test F1(macro): 0.508\n",
            "Epoch 10/20 | Time: 6s | Train loss: 0.1883 | Valid loss: 0.2369 | Valid F1(macro): 0.557 | Test F1(macro): 0.522\n",
            "Epoch 11/20 | Time: 6s | Train loss: 0.1809 | Valid loss: 0.2316 | Valid F1(macro): 0.557 | Test F1(macro): 0.526\n",
            "Epoch 12/20 | Time: 6s | Train loss: 0.1743 | Valid loss: 0.2279 | Valid F1(macro): 0.557 | Test F1(macro): 0.540\n",
            "Epoch 13/20 | Time: 6s | Train loss: 0.1685 | Valid loss: 0.2241 | Valid F1(macro): 0.584 | Test F1(macro): 0.545\n",
            "Epoch 14/20 | Time: 6s | Train loss: 0.1632 | Valid loss: 0.2225 | Valid F1(macro): 0.584 | Test F1(macro): 0.550\n",
            "Epoch 15/20 | Time: 6s | Train loss: 0.1582 | Valid loss: 0.2197 | Valid F1(macro): 0.584 | Test F1(macro): 0.558\n",
            "Epoch 16/20 | Time: 6s | Train loss: 0.1537 | Valid loss: 0.2177 | Valid F1(macro): 0.604 | Test F1(macro): 0.566\n",
            "Epoch 17/20 | Time: 6s | Train loss: 0.1494 | Valid loss: 0.2186 | Valid F1(macro): 0.604 | Test F1(macro): 0.569\n",
            "Epoch 18/20 | Time: 6s | Train loss: 0.1453 | Valid loss: 0.2183 | Valid F1(macro): 0.604 | Test F1(macro): 0.573\n",
            "Epoch 19/20 | Time: 6s | Train loss: 0.1414 | Valid loss: 0.2176 | Valid F1(macro): 0.617 | Test F1(macro): 0.576\n",
            "Epoch 20/20 | Time: 6s | Train loss: 0.1377 | Valid loss: 0.2192 | Valid F1(macro): 0.620 | Test F1(macro): 0.578\n"
          ]
        }
      ],
      "source": [
        "model_5 = Model(embedding_dim=X_train.shape[1],\n",
        "                      num_labels=y_train.shape[1],\n",
        "                      activation_class=exp[5]['activation'],\n",
        "                      hidden_dims=exp[5]['hidden_dims'])\n",
        "optimizer_5 = torch.optim.SGD(model_5.parameters(), lr=exp[5]['lr'])\n",
        "loss_fn = nn.BCELoss()\n",
        "history = train_and_evaluate(model_5, optimizer_5, loss_fn, train_dataloader, valid_dataloader, test_dataloader, num_epochs=20, device='cuda:0')\n",
        "results[exp[5]['name']] = history"
      ]
    },
    {
      "cell_type": "code",
      "execution_count": null,
      "metadata": {
        "id": "yRBOtx4vQvqZ",
        "outputId": "dbaf101d-52cd-456c-a40a-dcb422c4cc34"
      },
      "outputs": [
        {
          "name": "stdout",
          "output_type": "stream",
          "text": [
            "Epoch 1/20 | Time: 11s | Train loss: 0.2782 | Valid loss: 0.2567 | Valid F1(macro): 0.520 | Test F1(macro): 0.487\n",
            "Epoch 2/20 | Time: 8s | Train loss: 0.2026 | Valid loss: 0.2268 | Valid F1(macro): 0.520 | Test F1(macro): 0.528\n",
            "Epoch 3/20 | Time: 8s | Train loss: 0.1819 | Valid loss: 0.2177 | Valid F1(macro): 0.520 | Test F1(macro): 0.540\n",
            "Epoch 4/20 | Time: 8s | Train loss: 0.1689 | Valid loss: 0.2066 | Valid F1(macro): 0.606 | Test F1(macro): 0.563\n",
            "Epoch 5/20 | Time: 8s | Train loss: 0.1593 | Valid loss: 0.2005 | Valid F1(macro): 0.606 | Test F1(macro): 0.568\n",
            "Epoch 6/20 | Time: 8s | Train loss: 0.1515 | Valid loss: 0.2027 | Valid F1(macro): 0.606 | Test F1(macro): 0.577\n",
            "Epoch 7/20 | Time: 8s | Train loss: 0.1445 | Valid loss: 0.1988 | Valid F1(macro): 0.638 | Test F1(macro): 0.592\n",
            "Epoch 8/20 | Time: 8s | Train loss: 0.1382 | Valid loss: 0.1954 | Valid F1(macro): 0.638 | Test F1(macro): 0.591\n",
            "Epoch 9/20 | Time: 8s | Train loss: 0.1320 | Valid loss: 0.2003 | Valid F1(macro): 0.638 | Test F1(macro): 0.585\n",
            "Epoch 10/20 | Time: 8s | Train loss: 0.1261 | Valid loss: 0.1941 | Valid F1(macro): 0.653 | Test F1(macro): 0.603\n",
            "Epoch 11/20 | Time: 8s | Train loss: 0.1204 | Valid loss: 0.1986 | Valid F1(macro): 0.653 | Test F1(macro): 0.599\n",
            "Epoch 12/20 | Time: 8s | Train loss: 0.1147 | Valid loss: 0.1995 | Valid F1(macro): 0.653 | Test F1(macro): 0.599\n",
            "Epoch 13/20 | Time: 8s | Train loss: 0.1093 | Valid loss: 0.1998 | Valid F1(macro): 0.659 | Test F1(macro): 0.606\n",
            "Epoch 14/20 | Time: 8s | Train loss: 0.1042 | Valid loss: 0.1981 | Valid F1(macro): 0.659 | Test F1(macro): 0.603\n",
            "Epoch 15/20 | Time: 8s | Train loss: 0.0990 | Valid loss: 0.2060 | Valid F1(macro): 0.659 | Test F1(macro): 0.606\n",
            "Epoch 16/20 | Time: 9s | Train loss: 0.0940 | Valid loss: 0.2098 | Valid F1(macro): 0.666 | Test F1(macro): 0.613\n",
            "Epoch 17/20 | Time: 8s | Train loss: 0.0891 | Valid loss: 0.2155 | Valid F1(macro): 0.666 | Test F1(macro): 0.605\n",
            "Epoch 18/20 | Time: 8s | Train loss: 0.0845 | Valid loss: 0.2234 | Valid F1(macro): 0.666 | Test F1(macro): 0.604\n",
            "Epoch 19/20 | Time: 8s | Train loss: 0.0802 | Valid loss: 0.2233 | Valid F1(macro): 0.660 | Test F1(macro): 0.610\n",
            "Epoch 20/20 | Time: 8s | Train loss: 0.0761 | Valid loss: 0.2398 | Valid F1(macro): 0.662 | Test F1(macro): 0.606\n"
          ]
        }
      ],
      "source": [
        "model_6 = Model(embedding_dim=X_train.shape[1],\n",
        "                      num_labels=y_train.shape[1],\n",
        "                      activation_class=exp[6]['activation'],\n",
        "                      hidden_dims=exp[6]['hidden_dims'])\n",
        "optimizer_6 = torch.optim.Adam(model_6.parameters(), lr=exp[6]['lr'])\n",
        "loss_fn = nn.BCELoss()\n",
        "history = train_and_evaluate(model_6, optimizer_6, loss_fn, train_dataloader, valid_dataloader, test_dataloader, num_epochs=20, device='cuda:0')\n",
        "results[exp[6]['name']] = history"
      ]
    },
    {
      "cell_type": "code",
      "execution_count": null,
      "metadata": {
        "id": "HLHSX-OnQvqa"
      },
      "outputs": [],
      "source": [
        "import pandas as pd\n",
        "\n",
        "data = {\n",
        "    \"Exp\": [1, 2, 3, 4, 5, 6, 7],\n",
        "    \"Name\": [\n",
        "        \"Single layer + ReLU\",\n",
        "        \"Two layers (128, 64) + ReLU\",\n",
        "        \"Two layers (256, 128) + Sigmoid\",\n",
        "        \"BERT vectors + Two layers (128, 64) + ReLU\",\n",
        "        \"BERT vectors + Two layers (256, 128) + Sigmoid\",\n",
        "        \"Three layers (512, 256, 128) + ReLU\",\n",
        "        \"Three layers (512, 256, 128) + Sigmoid\"\n",
        "    ],\n",
        "    \"hidden_dims\": [\n",
        "        None, \"[128, 64]\", \"[256, 128]\",\n",
        "        \"[128, 64]\", \"[256, 128]\",\n",
        "        \"[512, 256, 128]\", \"[512, 256, 128]\"\n",
        "    ],\n",
        "    \"Activation\": [\n",
        "        \"ReLU\", \"ReLU\", \"Sigmoid\",\n",
        "        \"ReLU\", \"Sigmoid\",\n",
        "        \"ReLU\", \"Sigmoid\"\n",
        "    ],\n",
        "    \"Optimizer\": [\n",
        "        \"SGD\", \"Adam\", \"Adam\",\n",
        "        \"Adam\", \"Adam\", \"SGD\", \"Adam\"\n",
        "    ],\n",
        "    \"LR\": [0.05, 1e-3, 1e-3, 1e-3, 1e-3, 0.05, 1e-3],\n",
        "    \"Train Loss\": [0.2029, 0.1029, 0.0916, 0.1649, 0.1490, 0.1377, 0.0802],\n",
        "    \"Valid Loss\": [0.3032, 0.3109, 0.2123, 0.2230, 0.2104, 0.2192, 0.2233],\n",
        "    \"Valid F1(macro)\": [0.586, 0.640, 0.665, 0.618, 0.638, 0.620, 0.660],\n",
        "    \"Test F1(macro)\": [0.548, 0.584, 0.609, 0.563, 0.595, 0.578, 0.610],\n",
        "    \"Time (s/epoch)\": [3, 6, 6, 6, 6, 6, 8]\n",
        "}"
      ]
    },
    {
      "cell_type": "code",
      "execution_count": null,
      "metadata": {
        "id": "LsGvExcjQvqa",
        "outputId": "bf3c9042-812c-4d91-8314-81a164d3be23"
      },
      "outputs": [
        {
          "data": {
            "image/png": "[encoded data removed]",
            "text/plain": [
              "<Figure size 800x600 with 1 Axes>"
            ]
          },
          "metadata": {},
          "output_type": "display_data"
        },
        {
          "data": {
            "image/png": "[encoded data removed]",
            "text/plain": [
              "<Figure size 800x600 with 1 Axes>"
            ]
          },
          "metadata": {},
          "output_type": "display_data"
        },
        {
          "data": {
            "image/png": "[encoded data removed]",
            "text/plain": [
              "<Figure size 800x600 with 1 Axes>"
            ]
          },
          "metadata": {},
          "output_type": "display_data"
        }
      ],
      "source": [
        "for metric in ['train_loss', 'valid_loss', 'test_f1_macro']:\n",
        "    plt.figure(figsize=(8, 6))\n",
        "    for exp_name, history in results.items():\n",
        "        plt.plot(history[metric], label=exp_name)\n",
        "    plt.xlabel(\"Epoch\")\n",
        "    if metric in ['train_loss', 'valid_loss']:\n",
        "        plt.ylabel(\"Loss\")\n",
        "    else:\n",
        "        plt.ylabel(\"F1 Macro\")\n",
        "    plt.title(metric)\n",
        "    plt.legend()\n",
        "    plt.grid()\n",
        "    plt.show()"
      ]
    },
    {
      "cell_type": "markdown",
      "metadata": {
        "id": "r45VhLDAQvqb"
      },
      "source": [
        "__Выводы:__"
      ]
    },
    {
      "cell_type": "code",
      "execution_count": null,
      "metadata": {
        "id": "f6JTfWd2Qvqb",
        "outputId": "b037e80c-17f9-45bc-fdfb-71c6bf034054"
      },
      "outputs": [
        {
          "data": {
            "text/html": [
              "<div>\n",
              "<style scoped>\n",
              "    .dataframe tbody tr th:only-of-type {\n",
              "        vertical-align: middle;\n",
              "    }\n",
              "\n",
              "    .dataframe tbody tr th {\n",
              "        vertical-align: top;\n",
              "    }\n",
              "\n",
              "    .dataframe thead th {\n",
              "        text-align: right;\n",
              "    }\n",
              "</style>\n",
              "<table border=\"1\" class=\"dataframe\">\n",
              "  <thead>\n",
              "    <tr style=\"text-align: right;\">\n",
              "      <th></th>\n",
              "      <th>Exp</th>\n",
              "      <th>Name</th>\n",
              "      <th>hidden_dims</th>\n",
              "      <th>Activation</th>\n",
              "      <th>Optimizer</th>\n",
              "      <th>LR</th>\n",
              "      <th>Train Loss</th>\n",
              "      <th>Valid Loss</th>\n",
              "      <th>Valid F1(macro)</th>\n",
              "      <th>Test F1(macro)</th>\n",
              "      <th>Time (s/epoch)</th>\n",
              "    </tr>\n",
              "  </thead>\n",
              "  <tbody>\n",
              "    <tr>\n",
              "      <th>0</th>\n",
              "      <td>1</td>\n",
              "      <td>Single layer + ReLU</td>\n",
              "      <td>None</td>\n",
              "      <td>ReLU</td>\n",
              "      <td>SGD</td>\n",
              "      <td>0.050</td>\n",
              "      <td>0.2029</td>\n",
              "      <td>0.3032</td>\n",
              "      <td>0.586</td>\n",
              "      <td>0.548</td>\n",
              "      <td>3</td>\n",
              "    </tr>\n",
              "    <tr>\n",
              "      <th>1</th>\n",
              "      <td>2</td>\n",
              "      <td>Two layers (128, 64) + ReLU</td>\n",
              "      <td>[128, 64]</td>\n",
              "      <td>ReLU</td>\n",
              "      <td>Adam</td>\n",
              "      <td>0.001</td>\n",
              "      <td>0.1029</td>\n",
              "      <td>0.3109</td>\n",
              "      <td>0.640</td>\n",
              "      <td>0.584</td>\n",
              "      <td>6</td>\n",
              "    </tr>\n",
              "    <tr>\n",
              "      <th>2</th>\n",
              "      <td>3</td>\n",
              "      <td>Two layers (256, 128) + Sigmoid</td>\n",
              "      <td>[256, 128]</td>\n",
              "      <td>Sigmoid</td>\n",
              "      <td>Adam</td>\n",
              "      <td>0.001</td>\n",
              "      <td>0.0916</td>\n",
              "      <td>0.2123</td>\n",
              "      <td>0.665</td>\n",
              "      <td>0.609</td>\n",
              "      <td>6</td>\n",
              "    </tr>\n",
              "    <tr>\n",
              "      <th>3</th>\n",
              "      <td>4</td>\n",
              "      <td>BERT vectors + Two layers (128, 64) + ReLU</td>\n",
              "      <td>[128, 64]</td>\n",
              "      <td>ReLU</td>\n",
              "      <td>Adam</td>\n",
              "      <td>0.001</td>\n",
              "      <td>0.1649</td>\n",
              "      <td>0.2230</td>\n",
              "      <td>0.618</td>\n",
              "      <td>0.563</td>\n",
              "      <td>6</td>\n",
              "    </tr>\n",
              "    <tr>\n",
              "      <th>4</th>\n",
              "      <td>5</td>\n",
              "      <td>BERT vectors + Two layers (256, 128) + Sigmoid</td>\n",
              "      <td>[256, 128]</td>\n",
              "      <td>Sigmoid</td>\n",
              "      <td>Adam</td>\n",
              "      <td>0.001</td>\n",
              "      <td>0.1490</td>\n",
              "      <td>0.2104</td>\n",
              "      <td>0.638</td>\n",
              "      <td>0.595</td>\n",
              "      <td>6</td>\n",
              "    </tr>\n",
              "    <tr>\n",
              "      <th>5</th>\n",
              "      <td>6</td>\n",
              "      <td>Three layers (512, 256, 128) + ReLU</td>\n",
              "      <td>[512, 256, 128]</td>\n",
              "      <td>ReLU</td>\n",
              "      <td>SGD</td>\n",
              "      <td>0.050</td>\n",
              "      <td>0.1377</td>\n",
              "      <td>0.2192</td>\n",
              "      <td>0.620</td>\n",
              "      <td>0.578</td>\n",
              "      <td>6</td>\n",
              "    </tr>\n",
              "    <tr>\n",
              "      <th>6</th>\n",
              "      <td>7</td>\n",
              "      <td>Three layers (512, 256, 128) + Sigmoid</td>\n",
              "      <td>[512, 256, 128]</td>\n",
              "      <td>Sigmoid</td>\n",
              "      <td>Adam</td>\n",
              "      <td>0.001</td>\n",
              "      <td>0.0802</td>\n",
              "      <td>0.2233</td>\n",
              "      <td>0.660</td>\n",
              "      <td>0.610</td>\n",
              "      <td>8</td>\n",
              "    </tr>\n",
              "  </tbody>\n",
              "</table>\n",
              "</div>"
            ],
            "text/plain": [
              "   Exp                                            Name      hidden_dims  \\\n",
              "0    1                             Single layer + ReLU             None   \n",
              "1    2                     Two layers (128, 64) + ReLU        [128, 64]   \n",
              "2    3                 Two layers (256, 128) + Sigmoid       [256, 128]   \n",
              "3    4      BERT vectors + Two layers (128, 64) + ReLU        [128, 64]   \n",
              "4    5  BERT vectors + Two layers (256, 128) + Sigmoid       [256, 128]   \n",
              "5    6             Three layers (512, 256, 128) + ReLU  [512, 256, 128]   \n",
              "6    7          Three layers (512, 256, 128) + Sigmoid  [512, 256, 128]   \n",
              "\n",
              "  Activation Optimizer     LR  Train Loss  Valid Loss  Valid F1(macro)  \\\n",
              "0       ReLU       SGD  0.050      0.2029      0.3032            0.586   \n",
              "1       ReLU      Adam  0.001      0.1029      0.3109            0.640   \n",
              "2    Sigmoid      Adam  0.001      0.0916      0.2123            0.665   \n",
              "3       ReLU      Adam  0.001      0.1649      0.2230            0.618   \n",
              "4    Sigmoid      Adam  0.001      0.1490      0.2104            0.638   \n",
              "5       ReLU       SGD  0.050      0.1377      0.2192            0.620   \n",
              "6    Sigmoid      Adam  0.001      0.0802      0.2233            0.660   \n",
              "\n",
              "   Test F1(macro)  Time (s/epoch)  \n",
              "0           0.548               3  \n",
              "1           0.584               6  \n",
              "2           0.609               6  \n",
              "3           0.563               6  \n",
              "4           0.595               6  \n",
              "5           0.578               6  \n",
              "6           0.610               8  "
            ]
          },
          "execution_count": 118,
          "metadata": {},
          "output_type": "execute_result"
        }
      ],
      "source": [
        "df = pd.DataFrame(data)\n",
        "df"
      ]
    },
    {
      "cell_type": "markdown",
      "metadata": {
        "id": "ok8Ed8C8Qvqb"
      },
      "source": [
        "1) Варьирование числа и размера линейных слоёв\n",
        "\n",
        "Однослойная модель (Exp 1) оказалась самой простой и обучалась быстрее (около 3 секунд на эпоху). Однако её качество (Test F1 около 0.55) уступило более глубоким моделям.\n",
        "\n",
        "Двухслойные модели (Exp 2–3, 4–5) показали более высокие F1, вплоть до Test F1 = 0.61 (Exp 3) валидационно — но на тестовой выборке итог был чуть ниже лучшего результата Exp 7.\n",
        "\n",
        "Трёхслойные модели (Exp 6 и 7) потребовали больше времени (6–8 секунд на эпоху). При этом Exp 7 показал лучший результат на тесте (F1 = 0.61).\n",
        "\n",
        "2) Использование различных функций активации\n",
        "\n",
        "ReLU быстрее сходится на начальных эпохах, но иногда даёт более высокую валидационную ошибку при тех же настройках (Exp 1, 2, 6).\n",
        "\n",
        "Sigmoid (Exp 3, 5, 7) оказалась хорошим вариантом для multi-label задач, особенно в связке с BCE-потерей и Adam: даёт более высокие F1.\n",
        "\n",
        "Tanh, LeakyReLU не были здесь задействованы, но гипотетически могут дать схожую или лучшую производительность (в зависимости от задач, размера данных и др.).\n",
        "\n",
        "3) Выбор оптимизатора, варьирование гиперпараметров\n",
        "\n",
        "SGD с LR=0.05 (Exp 1, 6) работал относительно быстро, но показал хуже результаты на тесте, чем Adam с LR=1e-3.\n",
        "\n",
        "Adam (Exp 2–5, 7) показал более высокие финальные F1. LR=1e-3 оказался достаточно стабильным для обучения более глубоких сетей.\n",
        "\n",
        "4) Замена векторизатора на BERT\n",
        "\n",
        "В экспериментах (Exp 4, 5) мы видим, что переход на BERT-вектора дал устойчиво более низкий Valid loss (около 0.21–0.22) по сравнению с простым векторизатором (в Exp 2–3 Valid loss мог быть и 0.31, и 0.21).\n",
        "\n",
        "Однако итоговый Test F1 не всегда оказывается выше, чем у «больших» моделей без BERT. Например, Exp 3 (без BERT) достиг 0.609, а Exp 5 (с BERT) — 0.595. Это может быть признаком того, что BERT-вектора в данном случае требуют более тонкого подбора гиперпараметров (например, меньше LR, больше эпох), или что в совокупности модель с BERT переобучается / недообучается при текущем размере выборки.\n",
        "\n",
        "5) Итоговое наилучшее качество\n",
        "\n",
        "На валидации самую высокую F1(macro) показывает Exp 3 (0.665) или Exp 7 (0.66), но тест у Exp 7 выходит 0.610, что является лучшим показателем.\n",
        "\n",
        "Разница между валидацией и тестом говорит о том, что модели Exp 3 и 7 слегка «подсаживаются» на валидацию, однако Exp 7 сохраняет более высокое качество на тесте.\n",
        "\n",
        "6) Скорость сходимости лосса\n",
        "\n",
        "Однослойная модель (Exp 1) сходится быстро, но даёт худшую F1 на тесте.\n",
        "\n",
        "Глубокая модель (Exp 7) сходится дольше, однако даёт максимальный F1. Это ожидаемо: более сложные модели потенциально обучаются дольше, но дают лучшие результаты."
      ]
    }
  ],
  "metadata": {
    "accelerator": "GPU",
    "colab": {
      "gpuType": "T4",
      "provenance": [],
      "include_colab_link": true
    },
    "kernelspec": {
      "display_name": "Python (TF-GPU)",
      "language": "python",
      "name": "tf-gpu"
    },
    "language_info": {
      "codemirror_mode": {
        "name": "ipython",
        "version": 3
      },
      "file_extension": ".py",
      "mimetype": "text/x-python",
      "name": "python",
      "nbconvert_exporter": "python",
      "pygments_lexer": "ipython3",
      "version": "3.9.18"
    },
    "widgets": {
      "application/vnd.jupyter.widget-state+json": {
        "00efcb66cd3648c7a3738371e95546bc": {
          "model_module": "@jupyter-widgets/controls",
          "model_module_version": "1.5.0",
          "model_name": "ProgressStyleModel",
          "state": {
            "_model_module": "@jupyter-widgets/controls",
            "_model_module_version": "1.5.0",
            "_model_name": "ProgressStyleModel",
            "_view_count": null,
            "_view_module": "@jupyter-widgets/base",
            "_view_module_version": "1.2.0",
            "_view_name": "StyleView",
            "bar_color": null,
            "description_width": ""
          }
        },
        "02bc2274c9e4446b8d4c0f25e55db75a": {
          "model_module": "@jupyter-widgets/base",
          "model_module_version": "1.2.0",
          "model_name": "LayoutModel",
          "state": {
            "_model_module": "@jupyter-widgets/base",
            "_model_module_version": "1.2.0",
            "_model_name": "LayoutModel",
            "_view_count": null,
            "_view_module": "@jupyter-widgets/base",
            "_view_module_version": "1.2.0",
            "_view_name": "LayoutView",
            "align_content": null,
            "align_items": null,
            "align_self": null,
            "border": null,
            "bottom": null,
            "display": null,
            "flex": null,
            "flex_flow": null,
            "grid_area": null,
            "grid_auto_columns": null,
            "grid_auto_flow": null,
            "grid_auto_rows": null,
            "grid_column": null,
            "grid_gap": null,
            "grid_row": null,
            "grid_template_areas": null,
            "grid_template_columns": null,
            "grid_template_rows": null,
            "height": null,
            "justify_content": null,
            "justify_items": null,
            "left": null,
            "margin": null,
            "max_height": null,
            "max_width": null,
            "min_height": null,
            "min_width": null,
            "object_fit": null,
            "object_position": null,
            "order": null,
            "overflow": null,
            "overflow_x": null,
            "overflow_y": null,
            "padding": null,
            "right": null,
            "top": null,
            "visibility": null,
            "width": null
          }
        },
        "03ee9d59a83448d8819f1608c0f55249": {
          "model_module": "@jupyter-widgets/base",
          "model_module_version": "1.2.0",
          "model_name": "LayoutModel",
          "state": {
            "_model_module": "@jupyter-widgets/base",
            "_model_module_version": "1.2.0",
            "_model_name": "LayoutModel",
            "_view_count": null,
            "_view_module": "@jupyter-widgets/base",
            "_view_module_version": "1.2.0",
            "_view_name": "LayoutView",
            "align_content": null,
            "align_items": null,
            "align_self": null,
            "border": null,
            "bottom": null,
            "display": null,
            "flex": null,
            "flex_flow": null,
            "grid_area": null,
            "grid_auto_columns": null,
            "grid_auto_flow": null,
            "grid_auto_rows": null,
            "grid_column": null,
            "grid_gap": null,
            "grid_row": null,
            "grid_template_areas": null,
            "grid_template_columns": null,
            "grid_template_rows": null,
            "height": null,
            "justify_content": null,
            "justify_items": null,
            "left": null,
            "margin": null,
            "max_height": null,
            "max_width": null,
            "min_height": null,
            "min_width": null,
            "object_fit": null,
            "object_position": null,
            "order": null,
            "overflow": null,
            "overflow_x": null,
            "overflow_y": null,
            "padding": null,
            "right": null,
            "top": null,
            "visibility": null,
            "width": null
          }
        },
        "0772b9e439cc4c5b8fcf03c306f114a0": {
          "model_module": "@jupyter-widgets/controls",
          "model_module_version": "1.5.0",
          "model_name": "HBoxModel",
          "state": {
            "_dom_classes": [],
            "_model_module": "@jupyter-widgets/controls",
            "_model_module_version": "1.5.0",
            "_model_name": "HBoxModel",
            "_view_count": null,
            "_view_module": "@jupyter-widgets/controls",
            "_view_module_version": "1.5.0",
            "_view_name": "HBoxView",
            "box_style": "",
            "children": [
              "IPY_MODEL_98567802e102475585b7437385c79c62",
              "IPY_MODEL_df3125c304f94679a5db5d057eb82390",
              "IPY_MODEL_fd3b91e38a0849048b39037c2622ce52"
            ],
            "layout": "IPY_MODEL_796eb428644b4d4ca1543edf0473f2ca"
          }
        },
        "088db1ba8e4b40d387d0d1149d980cd5": {
          "model_module": "@jupyter-widgets/base",
          "model_module_version": "1.2.0",
          "model_name": "LayoutModel",
          "state": {
            "_model_module": "@jupyter-widgets/base",
            "_model_module_version": "1.2.0",
            "_model_name": "LayoutModel",
            "_view_count": null,
            "_view_module": "@jupyter-widgets/base",
            "_view_module_version": "1.2.0",
            "_view_name": "LayoutView",
            "align_content": null,
            "align_items": null,
            "align_self": null,
            "border": null,
            "bottom": null,
            "display": null,
            "flex": null,
            "flex_flow": null,
            "grid_area": null,
            "grid_auto_columns": null,
            "grid_auto_flow": null,
            "grid_auto_rows": null,
            "grid_column": null,
            "grid_gap": null,
            "grid_row": null,
            "grid_template_areas": null,
            "grid_template_columns": null,
            "grid_template_rows": null,
            "height": null,
            "justify_content": null,
            "justify_items": null,
            "left": null,
            "margin": null,
            "max_height": null,
            "max_width": null,
            "min_height": null,
            "min_width": null,
            "object_fit": null,
            "object_position": null,
            "order": null,
            "overflow": null,
            "overflow_x": null,
            "overflow_y": null,
            "padding": null,
            "right": null,
            "top": null,
            "visibility": null,
            "width": null
          }
        },
        "0bc7f38c09944d5a88f0c4ef0e64925a": {
          "model_module": "@jupyter-widgets/base",
          "model_module_version": "1.2.0",
          "model_name": "LayoutModel",
          "state": {
            "_model_module": "@jupyter-widgets/base",
            "_model_module_version": "1.2.0",
            "_model_name": "LayoutModel",
            "_view_count": null,
            "_view_module": "@jupyter-widgets/base",
            "_view_module_version": "1.2.0",
            "_view_name": "LayoutView",
            "align_content": null,
            "align_items": null,
            "align_self": null,
            "border": null,
            "bottom": null,
            "display": null,
            "flex": null,
            "flex_flow": null,
            "grid_area": null,
            "grid_auto_columns": null,
            "grid_auto_flow": null,
            "grid_auto_rows": null,
            "grid_column": null,
            "grid_gap": null,
            "grid_row": null,
            "grid_template_areas": null,
            "grid_template_columns": null,
            "grid_template_rows": null,
            "height": null,
            "justify_content": null,
            "justify_items": null,
            "left": null,
            "margin": null,
            "max_height": null,
            "max_width": null,
            "min_height": null,
            "min_width": null,
            "object_fit": null,
            "object_position": null,
            "order": null,
            "overflow": null,
            "overflow_x": null,
            "overflow_y": null,
            "padding": null,
            "right": null,
            "top": null,
            "visibility": null,
            "width": null
          }
        },
        "1736bc0f54804369b9741d3f0e574550": {
          "model_module": "@jupyter-widgets/controls",
          "model_module_version": "1.5.0",
          "model_name": "HBoxModel",
          "state": {
            "_dom_classes": [],
            "_model_module": "@jupyter-widgets/controls",
            "_model_module_version": "1.5.0",
            "_model_name": "HBoxModel",
            "_view_count": null,
            "_view_module": "@jupyter-widgets/controls",
            "_view_module_version": "1.5.0",
            "_view_name": "HBoxView",
            "box_style": "",
            "children": [
              "IPY_MODEL_55c6572e3e41474f811a8eb34d97f4bf",
              "IPY_MODEL_a8abdef56aa04e54aeef3b66f4e8e853",
              "IPY_MODEL_cd1d3fc9cf504659abd06816ceddb9f2"
            ],
            "layout": "IPY_MODEL_9ad35556b708474fbad1f6b509a601cb"
          }
        },
        "195ae83c46a948bb9cbd25e003dbc213": {
          "model_module": "@jupyter-widgets/controls",
          "model_module_version": "1.5.0",
          "model_name": "DescriptionStyleModel",
          "state": {
            "_model_module": "@jupyter-widgets/controls",
            "_model_module_version": "1.5.0",
            "_model_name": "DescriptionStyleModel",
            "_view_count": null,
            "_view_module": "@jupyter-widgets/base",
            "_view_module_version": "1.2.0",
            "_view_name": "StyleView",
            "description_width": ""
          }
        },
        "1a69fb9188bd43f4a92f64ee4a543cb4": {
          "model_module": "@jupyter-widgets/base",
          "model_module_version": "1.2.0",
          "model_name": "LayoutModel",
          "state": {
            "_model_module": "@jupyter-widgets/base",
            "_model_module_version": "1.2.0",
            "_model_name": "LayoutModel",
            "_view_count": null,
            "_view_module": "@jupyter-widgets/base",
            "_view_module_version": "1.2.0",
            "_view_name": "LayoutView",
            "align_content": null,
            "align_items": null,
            "align_self": null,
            "border": null,
            "bottom": null,
            "display": null,
            "flex": null,
            "flex_flow": null,
            "grid_area": null,
            "grid_auto_columns": null,
            "grid_auto_flow": null,
            "grid_auto_rows": null,
            "grid_column": null,
            "grid_gap": null,
            "grid_row": null,
            "grid_template_areas": null,
            "grid_template_columns": null,
            "grid_template_rows": null,
            "height": null,
            "justify_content": null,
            "justify_items": null,
            "left": null,
            "margin": null,
            "max_height": null,
            "max_width": null,
            "min_height": null,
            "min_width": null,
            "object_fit": null,
            "object_position": null,
            "order": null,
            "overflow": null,
            "overflow_x": null,
            "overflow_y": null,
            "padding": null,
            "right": null,
            "top": null,
            "visibility": null,
            "width": null
          }
        },
        "24472cc86daa405f8ef96763e6224e88": {
          "model_module": "@jupyter-widgets/controls",
          "model_module_version": "1.5.0",
          "model_name": "DescriptionStyleModel",
          "state": {
            "_model_module": "@jupyter-widgets/controls",
            "_model_module_version": "1.5.0",
            "_model_name": "DescriptionStyleModel",
            "_view_count": null,
            "_view_module": "@jupyter-widgets/base",
            "_view_module_version": "1.2.0",
            "_view_name": "StyleView",
            "description_width": ""
          }
        },
        "2750c0dc1d58499ba94bdc8517b45f13": {
          "model_module": "@jupyter-widgets/controls",
          "model_module_version": "1.5.0",
          "model_name": "HTMLModel",
          "state": {
            "_dom_classes": [],
            "_model_module": "@jupyter-widgets/controls",
            "_model_module_version": "1.5.0",
            "_model_name": "HTMLModel",
            "_view_count": null,
            "_view_module": "@jupyter-widgets/controls",
            "_view_module_version": "1.5.0",
            "_view_name": "HTMLView",
            "description": "",
            "description_tooltip": null,
            "layout": "IPY_MODEL_03ee9d59a83448d8819f1608c0f55249",
            "placeholder": "​",
            "style": "IPY_MODEL_32db743012a44169a7f041f715effb32",
            "value": "Generating train split: 100%"
          }
        },
        "2da7c5e2d361475a8e92a79f07f59d0f": {
          "model_module": "@jupyter-widgets/base",
          "model_module_version": "1.2.0",
          "model_name": "LayoutModel",
          "state": {
            "_model_module": "@jupyter-widgets/base",
            "_model_module_version": "1.2.0",
            "_model_name": "LayoutModel",
            "_view_count": null,
            "_view_module": "@jupyter-widgets/base",
            "_view_module_version": "1.2.0",
            "_view_name": "LayoutView",
            "align_content": null,
            "align_items": null,
            "align_self": null,
            "border": null,
            "bottom": null,
            "display": null,
            "flex": null,
            "flex_flow": null,
            "grid_area": null,
            "grid_auto_columns": null,
            "grid_auto_flow": null,
            "grid_auto_rows": null,
            "grid_column": null,
            "grid_gap": null,
            "grid_row": null,
            "grid_template_areas": null,
            "grid_template_columns": null,
            "grid_template_rows": null,
            "height": null,
            "justify_content": null,
            "justify_items": null,
            "left": null,
            "margin": null,
            "max_height": null,
            "max_width": null,
            "min_height": null,
            "min_width": null,
            "object_fit": null,
            "object_position": null,
            "order": null,
            "overflow": null,
            "overflow_x": null,
            "overflow_y": null,
            "padding": null,
            "right": null,
            "top": null,
            "visibility": null,
            "width": null
          }
        },
        "32db743012a44169a7f041f715effb32": {
          "model_module": "@jupyter-widgets/controls",
          "model_module_version": "1.5.0",
          "model_name": "DescriptionStyleModel",
          "state": {
            "_model_module": "@jupyter-widgets/controls",
            "_model_module_version": "1.5.0",
            "_model_name": "DescriptionStyleModel",
            "_view_count": null,
            "_view_module": "@jupyter-widgets/base",
            "_view_module_version": "1.2.0",
            "_view_name": "StyleView",
            "description_width": ""
          }
        },
        "35e7356dd1254cf8aa5b8ab3a11a5bdc": {
          "model_module": "@jupyter-widgets/controls",
          "model_module_version": "1.5.0",
          "model_name": "HTMLModel",
          "state": {
            "_dom_classes": [],
            "_model_module": "@jupyter-widgets/controls",
            "_model_module_version": "1.5.0",
            "_model_name": "HTMLModel",
            "_view_count": null,
            "_view_module": "@jupyter-widgets/controls",
            "_view_module_version": "1.5.0",
            "_view_name": "HTMLView",
            "description": "",
            "description_tooltip": null,
            "layout": "IPY_MODEL_9a67d762b2584f9bafb7d0f3d6098dd1",
            "placeholder": "​",
            "style": "IPY_MODEL_3d22b61c49ec400b9190588ad055db44",
            "value": "Generating test split: 100%"
          }
        },
        "3b5aa0436f0e4cda9e33f5a94c79aa28": {
          "model_module": "@jupyter-widgets/controls",
          "model_module_version": "1.5.0",
          "model_name": "DescriptionStyleModel",
          "state": {
            "_model_module": "@jupyter-widgets/controls",
            "_model_module_version": "1.5.0",
            "_model_name": "DescriptionStyleModel",
            "_view_count": null,
            "_view_module": "@jupyter-widgets/base",
            "_view_module_version": "1.2.0",
            "_view_name": "StyleView",
            "description_width": ""
          }
        },
        "3d22b61c49ec400b9190588ad055db44": {
          "model_module": "@jupyter-widgets/controls",
          "model_module_version": "1.5.0",
          "model_name": "DescriptionStyleModel",
          "state": {
            "_model_module": "@jupyter-widgets/controls",
            "_model_module_version": "1.5.0",
            "_model_name": "DescriptionStyleModel",
            "_view_count": null,
            "_view_module": "@jupyter-widgets/base",
            "_view_module_version": "1.2.0",
            "_view_name": "StyleView",
            "description_width": ""
          }
        },
        "4869dc14032b4c0fa672f1b59ac68c4b": {
          "model_module": "@jupyter-widgets/controls",
          "model_module_version": "1.5.0",
          "model_name": "DescriptionStyleModel",
          "state": {
            "_model_module": "@jupyter-widgets/controls",
            "_model_module_version": "1.5.0",
            "_model_name": "DescriptionStyleModel",
            "_view_count": null,
            "_view_module": "@jupyter-widgets/base",
            "_view_module_version": "1.2.0",
            "_view_name": "StyleView",
            "description_width": ""
          }
        },
        "488a74dccd4c48fdad019226a25a28be": {
          "model_module": "@jupyter-widgets/base",
          "model_module_version": "1.2.0",
          "model_name": "LayoutModel",
          "state": {
            "_model_module": "@jupyter-widgets/base",
            "_model_module_version": "1.2.0",
            "_model_name": "LayoutModel",
            "_view_count": null,
            "_view_module": "@jupyter-widgets/base",
            "_view_module_version": "1.2.0",
            "_view_name": "LayoutView",
            "align_content": null,
            "align_items": null,
            "align_self": null,
            "border": null,
            "bottom": null,
            "display": null,
            "flex": null,
            "flex_flow": null,
            "grid_area": null,
            "grid_auto_columns": null,
            "grid_auto_flow": null,
            "grid_auto_rows": null,
            "grid_column": null,
            "grid_gap": null,
            "grid_row": null,
            "grid_template_areas": null,
            "grid_template_columns": null,
            "grid_template_rows": null,
            "height": null,
            "justify_content": null,
            "justify_items": null,
            "left": null,
            "margin": null,
            "max_height": null,
            "max_width": null,
            "min_height": null,
            "min_width": null,
            "object_fit": null,
            "object_position": null,
            "order": null,
            "overflow": null,
            "overflow_x": null,
            "overflow_y": null,
            "padding": null,
            "right": null,
            "top": null,
            "visibility": null,
            "width": null
          }
        },
        "4aa8a29883bc49e9a8e515ade8a805b2": {
          "model_module": "@jupyter-widgets/base",
          "model_module_version": "1.2.0",
          "model_name": "LayoutModel",
          "state": {
            "_model_module": "@jupyter-widgets/base",
            "_model_module_version": "1.2.0",
            "_model_name": "LayoutModel",
            "_view_count": null,
            "_view_module": "@jupyter-widgets/base",
            "_view_module_version": "1.2.0",
            "_view_name": "LayoutView",
            "align_content": null,
            "align_items": null,
            "align_self": null,
            "border": null,
            "bottom": null,
            "display": null,
            "flex": null,
            "flex_flow": null,
            "grid_area": null,
            "grid_auto_columns": null,
            "grid_auto_flow": null,
            "grid_auto_rows": null,
            "grid_column": null,
            "grid_gap": null,
            "grid_row": null,
            "grid_template_areas": null,
            "grid_template_columns": null,
            "grid_template_rows": null,
            "height": null,
            "justify_content": null,
            "justify_items": null,
            "left": null,
            "margin": null,
            "max_height": null,
            "max_width": null,
            "min_height": null,
            "min_width": null,
            "object_fit": null,
            "object_position": null,
            "order": null,
            "overflow": null,
            "overflow_x": null,
            "overflow_y": null,
            "padding": null,
            "right": null,
            "top": null,
            "visibility": null,
            "width": null
          }
        },
        "55c6572e3e41474f811a8eb34d97f4bf": {
          "model_module": "@jupyter-widgets/controls",
          "model_module_version": "1.5.0",
          "model_name": "HTMLModel",
          "state": {
            "_dom_classes": [],
            "_model_module": "@jupyter-widgets/controls",
            "_model_module_version": "1.5.0",
            "_model_name": "HTMLModel",
            "_view_count": null,
            "_view_module": "@jupyter-widgets/controls",
            "_view_module_version": "1.5.0",
            "_view_name": "HTMLView",
            "description": "",
            "description_tooltip": null,
            "layout": "IPY_MODEL_655326c91a5946c2ad23ae892c7a224f",
            "placeholder": "​",
            "style": "IPY_MODEL_c7d4b80d2aea406993180de8967e1e13",
            "value": "Generating validation split: 100%"
          }
        },
        "5afccf0b132949afb6bcd7c765580cd3": {
          "model_module": "@jupyter-widgets/controls",
          "model_module_version": "1.5.0",
          "model_name": "FloatProgressModel",
          "state": {
            "_dom_classes": [],
            "_model_module": "@jupyter-widgets/controls",
            "_model_module_version": "1.5.0",
            "_model_name": "FloatProgressModel",
            "_view_count": null,
            "_view_module": "@jupyter-widgets/controls",
            "_view_module_version": "1.5.0",
            "_view_name": "ProgressView",
            "bar_style": "success",
            "description": "",
            "description_tooltip": null,
            "layout": "IPY_MODEL_7eea3345d96e480baf468165aa9ec469",
            "max": 2770050147,
            "min": 0,
            "orientation": "horizontal",
            "style": "IPY_MODEL_9d5ede502c11421d878554513a0231ce",
            "value": 2770050147
          }
        },
        "5d0e5f6b4c374de095e00200c1babfe5": {
          "model_module": "@jupyter-widgets/base",
          "model_module_version": "1.2.0",
          "model_name": "LayoutModel",
          "state": {
            "_model_module": "@jupyter-widgets/base",
            "_model_module_version": "1.2.0",
            "_model_name": "LayoutModel",
            "_view_count": null,
            "_view_module": "@jupyter-widgets/base",
            "_view_module_version": "1.2.0",
            "_view_name": "LayoutView",
            "align_content": null,
            "align_items": null,
            "align_self": null,
            "border": null,
            "bottom": null,
            "display": null,
            "flex": null,
            "flex_flow": null,
            "grid_area": null,
            "grid_auto_columns": null,
            "grid_auto_flow": null,
            "grid_auto_rows": null,
            "grid_column": null,
            "grid_gap": null,
            "grid_row": null,
            "grid_template_areas": null,
            "grid_template_columns": null,
            "grid_template_rows": null,
            "height": null,
            "justify_content": null,
            "justify_items": null,
            "left": null,
            "margin": null,
            "max_height": null,
            "max_width": null,
            "min_height": null,
            "min_width": null,
            "object_fit": null,
            "object_position": null,
            "order": null,
            "overflow": null,
            "overflow_x": null,
            "overflow_y": null,
            "padding": null,
            "right": null,
            "top": null,
            "visibility": null,
            "width": null
          }
        },
        "5f7d117755d34e69b852fa6f1be2cb1c": {
          "model_module": "@jupyter-widgets/controls",
          "model_module_version": "1.5.0",
          "model_name": "DescriptionStyleModel",
          "state": {
            "_model_module": "@jupyter-widgets/controls",
            "_model_module_version": "1.5.0",
            "_model_name": "DescriptionStyleModel",
            "_view_count": null,
            "_view_module": "@jupyter-widgets/base",
            "_view_module_version": "1.2.0",
            "_view_name": "StyleView",
            "description_width": ""
          }
        },
        "5ff5fc5a28624285b2b7b4b6b0b2e157": {
          "model_module": "@jupyter-widgets/controls",
          "model_module_version": "1.5.0",
          "model_name": "DescriptionStyleModel",
          "state": {
            "_model_module": "@jupyter-widgets/controls",
            "_model_module_version": "1.5.0",
            "_model_name": "DescriptionStyleModel",
            "_view_count": null,
            "_view_module": "@jupyter-widgets/base",
            "_view_module_version": "1.2.0",
            "_view_name": "StyleView",
            "description_width": ""
          }
        },
        "655326c91a5946c2ad23ae892c7a224f": {
          "model_module": "@jupyter-widgets/base",
          "model_module_version": "1.2.0",
          "model_name": "LayoutModel",
          "state": {
            "_model_module": "@jupyter-widgets/base",
            "_model_module_version": "1.2.0",
            "_model_name": "LayoutModel",
            "_view_count": null,
            "_view_module": "@jupyter-widgets/base",
            "_view_module_version": "1.2.0",
            "_view_name": "LayoutView",
            "align_content": null,
            "align_items": null,
            "align_self": null,
            "border": null,
            "bottom": null,
            "display": null,
            "flex": null,
            "flex_flow": null,
            "grid_area": null,
            "grid_auto_columns": null,
            "grid_auto_flow": null,
            "grid_auto_rows": null,
            "grid_column": null,
            "grid_gap": null,
            "grid_row": null,
            "grid_template_areas": null,
            "grid_template_columns": null,
            "grid_template_rows": null,
            "height": null,
            "justify_content": null,
            "justify_items": null,
            "left": null,
            "margin": null,
            "max_height": null,
            "max_width": null,
            "min_height": null,
            "min_width": null,
            "object_fit": null,
            "object_position": null,
            "order": null,
            "overflow": null,
            "overflow_x": null,
            "overflow_y": null,
            "padding": null,
            "right": null,
            "top": null,
            "visibility": null,
            "width": null
          }
        },
        "6d9c01ace87a46ff9ff71aeb583c3ae9": {
          "model_module": "@jupyter-widgets/controls",
          "model_module_version": "1.5.0",
          "model_name": "HTMLModel",
          "state": {
            "_dom_classes": [],
            "_model_module": "@jupyter-widgets/controls",
            "_model_module_version": "1.5.0",
            "_model_name": "HTMLModel",
            "_view_count": null,
            "_view_module": "@jupyter-widgets/controls",
            "_view_module_version": "1.5.0",
            "_view_name": "HTMLView",
            "description": "",
            "description_tooltip": null,
            "layout": "IPY_MODEL_02bc2274c9e4446b8d4c0f25e55db75a",
            "placeholder": "​",
            "style": "IPY_MODEL_d2de99a5bdd04cfa839b6c649e22d983",
            "value": "multi_eurlex.tar.gz: 100%"
          }
        },
        "7669d742b9cd4e50a2a35300ae7e2f8b": {
          "model_module": "@jupyter-widgets/controls",
          "model_module_version": "1.5.0",
          "model_name": "ProgressStyleModel",
          "state": {
            "_model_module": "@jupyter-widgets/controls",
            "_model_module_version": "1.5.0",
            "_model_name": "ProgressStyleModel",
            "_view_count": null,
            "_view_module": "@jupyter-widgets/base",
            "_view_module_version": "1.2.0",
            "_view_name": "StyleView",
            "bar_color": null,
            "description_width": ""
          }
        },
        "796eb428644b4d4ca1543edf0473f2ca": {
          "model_module": "@jupyter-widgets/base",
          "model_module_version": "1.2.0",
          "model_name": "LayoutModel",
          "state": {
            "_model_module": "@jupyter-widgets/base",
            "_model_module_version": "1.2.0",
            "_model_name": "LayoutModel",
            "_view_count": null,
            "_view_module": "@jupyter-widgets/base",
            "_view_module_version": "1.2.0",
            "_view_name": "LayoutView",
            "align_content": null,
            "align_items": null,
            "align_self": null,
            "border": null,
            "bottom": null,
            "display": null,
            "flex": null,
            "flex_flow": null,
            "grid_area": null,
            "grid_auto_columns": null,
            "grid_auto_flow": null,
            "grid_auto_rows": null,
            "grid_column": null,
            "grid_gap": null,
            "grid_row": null,
            "grid_template_areas": null,
            "grid_template_columns": null,
            "grid_template_rows": null,
            "height": null,
            "justify_content": null,
            "justify_items": null,
            "left": null,
            "margin": null,
            "max_height": null,
            "max_width": null,
            "min_height": null,
            "min_width": null,
            "object_fit": null,
            "object_position": null,
            "order": null,
            "overflow": null,
            "overflow_x": null,
            "overflow_y": null,
            "padding": null,
            "right": null,
            "top": null,
            "visibility": null,
            "width": null
          }
        },
        "7eea3345d96e480baf468165aa9ec469": {
          "model_module": "@jupyter-widgets/base",
          "model_module_version": "1.2.0",
          "model_name": "LayoutModel",
          "state": {
            "_model_module": "@jupyter-widgets/base",
            "_model_module_version": "1.2.0",
            "_model_name": "LayoutModel",
            "_view_count": null,
            "_view_module": "@jupyter-widgets/base",
            "_view_module_version": "1.2.0",
            "_view_name": "LayoutView",
            "align_content": null,
            "align_items": null,
            "align_self": null,
            "border": null,
            "bottom": null,
            "display": null,
            "flex": null,
            "flex_flow": null,
            "grid_area": null,
            "grid_auto_columns": null,
            "grid_auto_flow": null,
            "grid_auto_rows": null,
            "grid_column": null,
            "grid_gap": null,
            "grid_row": null,
            "grid_template_areas": null,
            "grid_template_columns": null,
            "grid_template_rows": null,
            "height": null,
            "justify_content": null,
            "justify_items": null,
            "left": null,
            "margin": null,
            "max_height": null,
            "max_width": null,
            "min_height": null,
            "min_width": null,
            "object_fit": null,
            "object_position": null,
            "order": null,
            "overflow": null,
            "overflow_x": null,
            "overflow_y": null,
            "padding": null,
            "right": null,
            "top": null,
            "visibility": null,
            "width": null
          }
        },
        "8774fbc53ed843d2a7da265112b120cb": {
          "model_module": "@jupyter-widgets/controls",
          "model_module_version": "1.5.0",
          "model_name": "HTMLModel",
          "state": {
            "_dom_classes": [],
            "_model_module": "@jupyter-widgets/controls",
            "_model_module_version": "1.5.0",
            "_model_name": "HTMLModel",
            "_view_count": null,
            "_view_module": "@jupyter-widgets/controls",
            "_view_module_version": "1.5.0",
            "_view_name": "HTMLView",
            "description": "",
            "description_tooltip": null,
            "layout": "IPY_MODEL_a8c7262a95674024a718b4cddf8ed984",
            "placeholder": "​",
            "style": "IPY_MODEL_8d65f7b57bb748fa8b8aeef8356bc7f8",
            "value": "multi_eurlex.py: 100%"
          }
        },
        "8a1c9ffb51454e7c84af816b60d57763": {
          "model_module": "@jupyter-widgets/controls",
          "model_module_version": "1.5.0",
          "model_name": "DescriptionStyleModel",
          "state": {
            "_model_module": "@jupyter-widgets/controls",
            "_model_module_version": "1.5.0",
            "_model_name": "DescriptionStyleModel",
            "_view_count": null,
            "_view_module": "@jupyter-widgets/base",
            "_view_module_version": "1.2.0",
            "_view_name": "StyleView",
            "description_width": ""
          }
        },
        "8ac00932af8146f8a082f7830b15716b": {
          "model_module": "@jupyter-widgets/controls",
          "model_module_version": "1.5.0",
          "model_name": "FloatProgressModel",
          "state": {
            "_dom_classes": [],
            "_model_module": "@jupyter-widgets/controls",
            "_model_module_version": "1.5.0",
            "_model_name": "FloatProgressModel",
            "_view_count": null,
            "_view_module": "@jupyter-widgets/controls",
            "_view_module_version": "1.5.0",
            "_view_name": "ProgressView",
            "bar_style": "success",
            "description": "",
            "description_tooltip": null,
            "layout": "IPY_MODEL_2da7c5e2d361475a8e92a79f07f59d0f",
            "max": 55000,
            "min": 0,
            "orientation": "horizontal",
            "style": "IPY_MODEL_00efcb66cd3648c7a3738371e95546bc",
            "value": 55000
          }
        },
        "8d65f7b57bb748fa8b8aeef8356bc7f8": {
          "model_module": "@jupyter-widgets/controls",
          "model_module_version": "1.5.0",
          "model_name": "DescriptionStyleModel",
          "state": {
            "_model_module": "@jupyter-widgets/controls",
            "_model_module_version": "1.5.0",
            "_model_name": "DescriptionStyleModel",
            "_view_count": null,
            "_view_module": "@jupyter-widgets/base",
            "_view_module_version": "1.2.0",
            "_view_name": "StyleView",
            "description_width": ""
          }
        },
        "98567802e102475585b7437385c79c62": {
          "model_module": "@jupyter-widgets/controls",
          "model_module_version": "1.5.0",
          "model_name": "HTMLModel",
          "state": {
            "_dom_classes": [],
            "_model_module": "@jupyter-widgets/controls",
            "_model_module_version": "1.5.0",
            "_model_name": "HTMLModel",
            "_view_count": null,
            "_view_module": "@jupyter-widgets/controls",
            "_view_module_version": "1.5.0",
            "_view_name": "HTMLView",
            "description": "",
            "description_tooltip": null,
            "layout": "IPY_MODEL_4aa8a29883bc49e9a8e515ade8a805b2",
            "placeholder": "​",
            "style": "IPY_MODEL_24472cc86daa405f8ef96763e6224e88",
            "value": "README.md: 100%"
          }
        },
        "9a67d762b2584f9bafb7d0f3d6098dd1": {
          "model_module": "@jupyter-widgets/base",
          "model_module_version": "1.2.0",
          "model_name": "LayoutModel",
          "state": {
            "_model_module": "@jupyter-widgets/base",
            "_model_module_version": "1.2.0",
            "_model_name": "LayoutModel",
            "_view_count": null,
            "_view_module": "@jupyter-widgets/base",
            "_view_module_version": "1.2.0",
            "_view_name": "LayoutView",
            "align_content": null,
            "align_items": null,
            "align_self": null,
            "border": null,
            "bottom": null,
            "display": null,
            "flex": null,
            "flex_flow": null,
            "grid_area": null,
            "grid_auto_columns": null,
            "grid_auto_flow": null,
            "grid_auto_rows": null,
            "grid_column": null,
            "grid_gap": null,
            "grid_row": null,
            "grid_template_areas": null,
            "grid_template_columns": null,
            "grid_template_rows": null,
            "height": null,
            "justify_content": null,
            "justify_items": null,
            "left": null,
            "margin": null,
            "max_height": null,
            "max_width": null,
            "min_height": null,
            "min_width": null,
            "object_fit": null,
            "object_position": null,
            "order": null,
            "overflow": null,
            "overflow_x": null,
            "overflow_y": null,
            "padding": null,
            "right": null,
            "top": null,
            "visibility": null,
            "width": null
          }
        },
        "9aa313acef93486b8d09c766b84edcc5": {
          "model_module": "@jupyter-widgets/base",
          "model_module_version": "1.2.0",
          "model_name": "LayoutModel",
          "state": {
            "_model_module": "@jupyter-widgets/base",
            "_model_module_version": "1.2.0",
            "_model_name": "LayoutModel",
            "_view_count": null,
            "_view_module": "@jupyter-widgets/base",
            "_view_module_version": "1.2.0",
            "_view_name": "LayoutView",
            "align_content": null,
            "align_items": null,
            "align_self": null,
            "border": null,
            "bottom": null,
            "display": null,
            "flex": null,
            "flex_flow": null,
            "grid_area": null,
            "grid_auto_columns": null,
            "grid_auto_flow": null,
            "grid_auto_rows": null,
            "grid_column": null,
            "grid_gap": null,
            "grid_row": null,
            "grid_template_areas": null,
            "grid_template_columns": null,
            "grid_template_rows": null,
            "height": null,
            "justify_content": null,
            "justify_items": null,
            "left": null,
            "margin": null,
            "max_height": null,
            "max_width": null,
            "min_height": null,
            "min_width": null,
            "object_fit": null,
            "object_position": null,
            "order": null,
            "overflow": null,
            "overflow_x": null,
            "overflow_y": null,
            "padding": null,
            "right": null,
            "top": null,
            "visibility": null,
            "width": null
          }
        },
        "9ad35556b708474fbad1f6b509a601cb": {
          "model_module": "@jupyter-widgets/base",
          "model_module_version": "1.2.0",
          "model_name": "LayoutModel",
          "state": {
            "_model_module": "@jupyter-widgets/base",
            "_model_module_version": "1.2.0",
            "_model_name": "LayoutModel",
            "_view_count": null,
            "_view_module": "@jupyter-widgets/base",
            "_view_module_version": "1.2.0",
            "_view_name": "LayoutView",
            "align_content": null,
            "align_items": null,
            "align_self": null,
            "border": null,
            "bottom": null,
            "display": null,
            "flex": null,
            "flex_flow": null,
            "grid_area": null,
            "grid_auto_columns": null,
            "grid_auto_flow": null,
            "grid_auto_rows": null,
            "grid_column": null,
            "grid_gap": null,
            "grid_row": null,
            "grid_template_areas": null,
            "grid_template_columns": null,
            "grid_template_rows": null,
            "height": null,
            "justify_content": null,
            "justify_items": null,
            "left": null,
            "margin": null,
            "max_height": null,
            "max_width": null,
            "min_height": null,
            "min_width": null,
            "object_fit": null,
            "object_position": null,
            "order": null,
            "overflow": null,
            "overflow_x": null,
            "overflow_y": null,
            "padding": null,
            "right": null,
            "top": null,
            "visibility": null,
            "width": null
          }
        },
        "9d3c5f90f11d4d89adf797bce5d08afe": {
          "model_module": "@jupyter-widgets/controls",
          "model_module_version": "1.5.0",
          "model_name": "HBoxModel",
          "state": {
            "_dom_classes": [],
            "_model_module": "@jupyter-widgets/controls",
            "_model_module_version": "1.5.0",
            "_model_name": "HBoxModel",
            "_view_count": null,
            "_view_module": "@jupyter-widgets/controls",
            "_view_module_version": "1.5.0",
            "_view_name": "HBoxView",
            "box_style": "",
            "children": [
              "IPY_MODEL_35e7356dd1254cf8aa5b8ab3a11a5bdc",
              "IPY_MODEL_dd5a3ecacc7a4fcaa04d35cd952be0b1",
              "IPY_MODEL_cecdbe579bcc4568b66a6e344bc63f74"
            ],
            "layout": "IPY_MODEL_1a69fb9188bd43f4a92f64ee4a543cb4"
          }
        },
        "9d5ede502c11421d878554513a0231ce": {
          "model_module": "@jupyter-widgets/controls",
          "model_module_version": "1.5.0",
          "model_name": "ProgressStyleModel",
          "state": {
            "_model_module": "@jupyter-widgets/controls",
            "_model_module_version": "1.5.0",
            "_model_name": "ProgressStyleModel",
            "_view_count": null,
            "_view_module": "@jupyter-widgets/base",
            "_view_module_version": "1.2.0",
            "_view_name": "StyleView",
            "bar_color": null,
            "description_width": ""
          }
        },
        "a080bd86eb2a4aa890d3e135bc3eb814": {
          "model_module": "@jupyter-widgets/controls",
          "model_module_version": "1.5.0",
          "model_name": "HBoxModel",
          "state": {
            "_dom_classes": [],
            "_model_module": "@jupyter-widgets/controls",
            "_model_module_version": "1.5.0",
            "_model_name": "HBoxModel",
            "_view_count": null,
            "_view_module": "@jupyter-widgets/controls",
            "_view_module_version": "1.5.0",
            "_view_name": "HBoxView",
            "box_style": "",
            "children": [
              "IPY_MODEL_2750c0dc1d58499ba94bdc8517b45f13",
              "IPY_MODEL_8ac00932af8146f8a082f7830b15716b",
              "IPY_MODEL_b0f6164fef5940ce9295687f1991c2ac"
            ],
            "layout": "IPY_MODEL_b17b1bb5f02d4b7aa2b99a8bf0bd9e71"
          }
        },
        "a252dacf793749a5bfba57a475d96bb5": {
          "model_module": "@jupyter-widgets/controls",
          "model_module_version": "1.5.0",
          "model_name": "ProgressStyleModel",
          "state": {
            "_model_module": "@jupyter-widgets/controls",
            "_model_module_version": "1.5.0",
            "_model_name": "ProgressStyleModel",
            "_view_count": null,
            "_view_module": "@jupyter-widgets/base",
            "_view_module_version": "1.2.0",
            "_view_name": "StyleView",
            "bar_color": null,
            "description_width": ""
          }
        },
        "a8abdef56aa04e54aeef3b66f4e8e853": {
          "model_module": "@jupyter-widgets/controls",
          "model_module_version": "1.5.0",
          "model_name": "FloatProgressModel",
          "state": {
            "_dom_classes": [],
            "_model_module": "@jupyter-widgets/controls",
            "_model_module_version": "1.5.0",
            "_model_name": "FloatProgressModel",
            "_view_count": null,
            "_view_module": "@jupyter-widgets/controls",
            "_view_module_version": "1.5.0",
            "_view_name": "ProgressView",
            "bar_style": "success",
            "description": "",
            "description_tooltip": null,
            "layout": "IPY_MODEL_5d0e5f6b4c374de095e00200c1babfe5",
            "max": 5000,
            "min": 0,
            "orientation": "horizontal",
            "style": "IPY_MODEL_7669d742b9cd4e50a2a35300ae7e2f8b",
            "value": 5000
          }
        },
        "a8c7262a95674024a718b4cddf8ed984": {
          "model_module": "@jupyter-widgets/base",
          "model_module_version": "1.2.0",
          "model_name": "LayoutModel",
          "state": {
            "_model_module": "@jupyter-widgets/base",
            "_model_module_version": "1.2.0",
            "_model_name": "LayoutModel",
            "_view_count": null,
            "_view_module": "@jupyter-widgets/base",
            "_view_module_version": "1.2.0",
            "_view_name": "LayoutView",
            "align_content": null,
            "align_items": null,
            "align_self": null,
            "border": null,
            "bottom": null,
            "display": null,
            "flex": null,
            "flex_flow": null,
            "grid_area": null,
            "grid_auto_columns": null,
            "grid_auto_flow": null,
            "grid_auto_rows": null,
            "grid_column": null,
            "grid_gap": null,
            "grid_row": null,
            "grid_template_areas": null,
            "grid_template_columns": null,
            "grid_template_rows": null,
            "height": null,
            "justify_content": null,
            "justify_items": null,
            "left": null,
            "margin": null,
            "max_height": null,
            "max_width": null,
            "min_height": null,
            "min_width": null,
            "object_fit": null,
            "object_position": null,
            "order": null,
            "overflow": null,
            "overflow_x": null,
            "overflow_y": null,
            "padding": null,
            "right": null,
            "top": null,
            "visibility": null,
            "width": null
          }
        },
        "b0f6164fef5940ce9295687f1991c2ac": {
          "model_module": "@jupyter-widgets/controls",
          "model_module_version": "1.5.0",
          "model_name": "HTMLModel",
          "state": {
            "_dom_classes": [],
            "_model_module": "@jupyter-widgets/controls",
            "_model_module_version": "1.5.0",
            "_model_name": "HTMLModel",
            "_view_count": null,
            "_view_module": "@jupyter-widgets/controls",
            "_view_module_version": "1.5.0",
            "_view_name": "HTMLView",
            "description": "",
            "description_tooltip": null,
            "layout": "IPY_MODEL_0bc7f38c09944d5a88f0c4ef0e64925a",
            "placeholder": "​",
            "style": "IPY_MODEL_195ae83c46a948bb9cbd25e003dbc213",
            "value": " 55000/55000 [01:38&lt;00:00, 646.62 examples/s]"
          }
        },
        "b17b1bb5f02d4b7aa2b99a8bf0bd9e71": {
          "model_module": "@jupyter-widgets/base",
          "model_module_version": "1.2.0",
          "model_name": "LayoutModel",
          "state": {
            "_model_module": "@jupyter-widgets/base",
            "_model_module_version": "1.2.0",
            "_model_name": "LayoutModel",
            "_view_count": null,
            "_view_module": "@jupyter-widgets/base",
            "_view_module_version": "1.2.0",
            "_view_name": "LayoutView",
            "align_content": null,
            "align_items": null,
            "align_self": null,
            "border": null,
            "bottom": null,
            "display": null,
            "flex": null,
            "flex_flow": null,
            "grid_area": null,
            "grid_auto_columns": null,
            "grid_auto_flow": null,
            "grid_auto_rows": null,
            "grid_column": null,
            "grid_gap": null,
            "grid_row": null,
            "grid_template_areas": null,
            "grid_template_columns": null,
            "grid_template_rows": null,
            "height": null,
            "justify_content": null,
            "justify_items": null,
            "left": null,
            "margin": null,
            "max_height": null,
            "max_width": null,
            "min_height": null,
            "min_width": null,
            "object_fit": null,
            "object_position": null,
            "order": null,
            "overflow": null,
            "overflow_x": null,
            "overflow_y": null,
            "padding": null,
            "right": null,
            "top": null,
            "visibility": null,
            "width": null
          }
        },
        "b690d7305d4146a59d6ca3a2b6a7e725": {
          "model_module": "@jupyter-widgets/controls",
          "model_module_version": "1.5.0",
          "model_name": "HBoxModel",
          "state": {
            "_dom_classes": [],
            "_model_module": "@jupyter-widgets/controls",
            "_model_module_version": "1.5.0",
            "_model_name": "HBoxModel",
            "_view_count": null,
            "_view_module": "@jupyter-widgets/controls",
            "_view_module_version": "1.5.0",
            "_view_name": "HBoxView",
            "box_style": "",
            "children": [
              "IPY_MODEL_8774fbc53ed843d2a7da265112b120cb",
              "IPY_MODEL_e90e67fe39ce4c5fa80fd10bf232a05b",
              "IPY_MODEL_d8c240e082a04bb195331dd4c09994b8"
            ],
            "layout": "IPY_MODEL_ea721008ee1c486a9dda8a9e6a795ca1"
          }
        },
        "b8766674d0b04722a4d07447cb19325a": {
          "model_module": "@jupyter-widgets/controls",
          "model_module_version": "1.5.0",
          "model_name": "HTMLModel",
          "state": {
            "_dom_classes": [],
            "_model_module": "@jupyter-widgets/controls",
            "_model_module_version": "1.5.0",
            "_model_name": "HTMLModel",
            "_view_count": null,
            "_view_module": "@jupyter-widgets/controls",
            "_view_module_version": "1.5.0",
            "_view_name": "HTMLView",
            "description": "",
            "description_tooltip": null,
            "layout": "IPY_MODEL_488a74dccd4c48fdad019226a25a28be",
            "placeholder": "​",
            "style": "IPY_MODEL_8a1c9ffb51454e7c84af816b60d57763",
            "value": " 2.77G/2.77G [00:14&lt;00:00, 221MB/s]"
          }
        },
        "c1dfe4e43e2747e597beb280f1c31e59": {
          "model_module": "@jupyter-widgets/controls",
          "model_module_version": "1.5.0",
          "model_name": "ProgressStyleModel",
          "state": {
            "_model_module": "@jupyter-widgets/controls",
            "_model_module_version": "1.5.0",
            "_model_name": "ProgressStyleModel",
            "_view_count": null,
            "_view_module": "@jupyter-widgets/base",
            "_view_module_version": "1.2.0",
            "_view_name": "StyleView",
            "bar_color": null,
            "description_width": ""
          }
        },
        "c1f5c87efbb3424b800d1fc8435d2994": {
          "model_module": "@jupyter-widgets/base",
          "model_module_version": "1.2.0",
          "model_name": "LayoutModel",
          "state": {
            "_model_module": "@jupyter-widgets/base",
            "_model_module_version": "1.2.0",
            "_model_name": "LayoutModel",
            "_view_count": null,
            "_view_module": "@jupyter-widgets/base",
            "_view_module_version": "1.2.0",
            "_view_name": "LayoutView",
            "align_content": null,
            "align_items": null,
            "align_self": null,
            "border": null,
            "bottom": null,
            "display": null,
            "flex": null,
            "flex_flow": null,
            "grid_area": null,
            "grid_auto_columns": null,
            "grid_auto_flow": null,
            "grid_auto_rows": null,
            "grid_column": null,
            "grid_gap": null,
            "grid_row": null,
            "grid_template_areas": null,
            "grid_template_columns": null,
            "grid_template_rows": null,
            "height": null,
            "justify_content": null,
            "justify_items": null,
            "left": null,
            "margin": null,
            "max_height": null,
            "max_width": null,
            "min_height": null,
            "min_width": null,
            "object_fit": null,
            "object_position": null,
            "order": null,
            "overflow": null,
            "overflow_x": null,
            "overflow_y": null,
            "padding": null,
            "right": null,
            "top": null,
            "visibility": null,
            "width": null
          }
        },
        "c7d4b80d2aea406993180de8967e1e13": {
          "model_module": "@jupyter-widgets/controls",
          "model_module_version": "1.5.0",
          "model_name": "DescriptionStyleModel",
          "state": {
            "_model_module": "@jupyter-widgets/controls",
            "_model_module_version": "1.5.0",
            "_model_name": "DescriptionStyleModel",
            "_view_count": null,
            "_view_module": "@jupyter-widgets/base",
            "_view_module_version": "1.2.0",
            "_view_name": "StyleView",
            "description_width": ""
          }
        },
        "cd1d3fc9cf504659abd06816ceddb9f2": {
          "model_module": "@jupyter-widgets/controls",
          "model_module_version": "1.5.0",
          "model_name": "HTMLModel",
          "state": {
            "_dom_classes": [],
            "_model_module": "@jupyter-widgets/controls",
            "_model_module_version": "1.5.0",
            "_model_name": "HTMLModel",
            "_view_count": null,
            "_view_module": "@jupyter-widgets/controls",
            "_view_module_version": "1.5.0",
            "_view_name": "HTMLView",
            "description": "",
            "description_tooltip": null,
            "layout": "IPY_MODEL_9aa313acef93486b8d09c766b84edcc5",
            "placeholder": "​",
            "style": "IPY_MODEL_5f7d117755d34e69b852fa6f1be2cb1c",
            "value": " 5000/5000 [00:50&lt;00:00, 290.41 examples/s]"
          }
        },
        "cecdbe579bcc4568b66a6e344bc63f74": {
          "model_module": "@jupyter-widgets/controls",
          "model_module_version": "1.5.0",
          "model_name": "HTMLModel",
          "state": {
            "_dom_classes": [],
            "_model_module": "@jupyter-widgets/controls",
            "_model_module_version": "1.5.0",
            "_model_name": "HTMLModel",
            "_view_count": null,
            "_view_module": "@jupyter-widgets/controls",
            "_view_module_version": "1.5.0",
            "_view_name": "HTMLView",
            "description": "",
            "description_tooltip": null,
            "layout": "IPY_MODEL_d2e9b5bb5f324c159aa12a845fa0dfb7",
            "placeholder": "​",
            "style": "IPY_MODEL_3b5aa0436f0e4cda9e33f5a94c79aa28",
            "value": " 5000/5000 [01:00&lt;00:00, 207.77 examples/s]"
          }
        },
        "d2de99a5bdd04cfa839b6c649e22d983": {
          "model_module": "@jupyter-widgets/controls",
          "model_module_version": "1.5.0",
          "model_name": "DescriptionStyleModel",
          "state": {
            "_model_module": "@jupyter-widgets/controls",
            "_model_module_version": "1.5.0",
            "_model_name": "DescriptionStyleModel",
            "_view_count": null,
            "_view_module": "@jupyter-widgets/base",
            "_view_module_version": "1.2.0",
            "_view_name": "StyleView",
            "description_width": ""
          }
        },
        "d2e9b5bb5f324c159aa12a845fa0dfb7": {
          "model_module": "@jupyter-widgets/base",
          "model_module_version": "1.2.0",
          "model_name": "LayoutModel",
          "state": {
            "_model_module": "@jupyter-widgets/base",
            "_model_module_version": "1.2.0",
            "_model_name": "LayoutModel",
            "_view_count": null,
            "_view_module": "@jupyter-widgets/base",
            "_view_module_version": "1.2.0",
            "_view_name": "LayoutView",
            "align_content": null,
            "align_items": null,
            "align_self": null,
            "border": null,
            "bottom": null,
            "display": null,
            "flex": null,
            "flex_flow": null,
            "grid_area": null,
            "grid_auto_columns": null,
            "grid_auto_flow": null,
            "grid_auto_rows": null,
            "grid_column": null,
            "grid_gap": null,
            "grid_row": null,
            "grid_template_areas": null,
            "grid_template_columns": null,
            "grid_template_rows": null,
            "height": null,
            "justify_content": null,
            "justify_items": null,
            "left": null,
            "margin": null,
            "max_height": null,
            "max_width": null,
            "min_height": null,
            "min_width": null,
            "object_fit": null,
            "object_position": null,
            "order": null,
            "overflow": null,
            "overflow_x": null,
            "overflow_y": null,
            "padding": null,
            "right": null,
            "top": null,
            "visibility": null,
            "width": null
          }
        },
        "d42a38aea7c04976a9c75728b409ab13": {
          "model_module": "@jupyter-widgets/base",
          "model_module_version": "1.2.0",
          "model_name": "LayoutModel",
          "state": {
            "_model_module": "@jupyter-widgets/base",
            "_model_module_version": "1.2.0",
            "_model_name": "LayoutModel",
            "_view_count": null,
            "_view_module": "@jupyter-widgets/base",
            "_view_module_version": "1.2.0",
            "_view_name": "LayoutView",
            "align_content": null,
            "align_items": null,
            "align_self": null,
            "border": null,
            "bottom": null,
            "display": null,
            "flex": null,
            "flex_flow": null,
            "grid_area": null,
            "grid_auto_columns": null,
            "grid_auto_flow": null,
            "grid_auto_rows": null,
            "grid_column": null,
            "grid_gap": null,
            "grid_row": null,
            "grid_template_areas": null,
            "grid_template_columns": null,
            "grid_template_rows": null,
            "height": null,
            "justify_content": null,
            "justify_items": null,
            "left": null,
            "margin": null,
            "max_height": null,
            "max_width": null,
            "min_height": null,
            "min_width": null,
            "object_fit": null,
            "object_position": null,
            "order": null,
            "overflow": null,
            "overflow_x": null,
            "overflow_y": null,
            "padding": null,
            "right": null,
            "top": null,
            "visibility": null,
            "width": null
          }
        },
        "d8c240e082a04bb195331dd4c09994b8": {
          "model_module": "@jupyter-widgets/controls",
          "model_module_version": "1.5.0",
          "model_name": "HTMLModel",
          "state": {
            "_dom_classes": [],
            "_model_module": "@jupyter-widgets/controls",
            "_model_module_version": "1.5.0",
            "_model_name": "HTMLModel",
            "_view_count": null,
            "_view_module": "@jupyter-widgets/controls",
            "_view_module_version": "1.5.0",
            "_view_name": "HTMLView",
            "description": "",
            "description_tooltip": null,
            "layout": "IPY_MODEL_fb780b7ea7a34674b04f8a4f24d7f635",
            "placeholder": "​",
            "style": "IPY_MODEL_4869dc14032b4c0fa672f1b59ac68c4b",
            "value": " 138k/138k [00:00&lt;00:00, 1.67MB/s]"
          }
        },
        "db75096a8e414c98bcf664ee1fbabc57": {
          "model_module": "@jupyter-widgets/base",
          "model_module_version": "1.2.0",
          "model_name": "LayoutModel",
          "state": {
            "_model_module": "@jupyter-widgets/base",
            "_model_module_version": "1.2.0",
            "_model_name": "LayoutModel",
            "_view_count": null,
            "_view_module": "@jupyter-widgets/base",
            "_view_module_version": "1.2.0",
            "_view_name": "LayoutView",
            "align_content": null,
            "align_items": null,
            "align_self": null,
            "border": null,
            "bottom": null,
            "display": null,
            "flex": null,
            "flex_flow": null,
            "grid_area": null,
            "grid_auto_columns": null,
            "grid_auto_flow": null,
            "grid_auto_rows": null,
            "grid_column": null,
            "grid_gap": null,
            "grid_row": null,
            "grid_template_areas": null,
            "grid_template_columns": null,
            "grid_template_rows": null,
            "height": null,
            "justify_content": null,
            "justify_items": null,
            "left": null,
            "margin": null,
            "max_height": null,
            "max_width": null,
            "min_height": null,
            "min_width": null,
            "object_fit": null,
            "object_position": null,
            "order": null,
            "overflow": null,
            "overflow_x": null,
            "overflow_y": null,
            "padding": null,
            "right": null,
            "top": null,
            "visibility": null,
            "width": null
          }
        },
        "dd5a3ecacc7a4fcaa04d35cd952be0b1": {
          "model_module": "@jupyter-widgets/controls",
          "model_module_version": "1.5.0",
          "model_name": "FloatProgressModel",
          "state": {
            "_dom_classes": [],
            "_model_module": "@jupyter-widgets/controls",
            "_model_module_version": "1.5.0",
            "_model_name": "FloatProgressModel",
            "_view_count": null,
            "_view_module": "@jupyter-widgets/controls",
            "_view_module_version": "1.5.0",
            "_view_name": "ProgressView",
            "bar_style": "success",
            "description": "",
            "description_tooltip": null,
            "layout": "IPY_MODEL_f13de7dd9c05490fa52e3eadaa298883",
            "max": 5000,
            "min": 0,
            "orientation": "horizontal",
            "style": "IPY_MODEL_ec0d29f137e94a1090492a8ea04fe002",
            "value": 5000
          }
        },
        "df3125c304f94679a5db5d057eb82390": {
          "model_module": "@jupyter-widgets/controls",
          "model_module_version": "1.5.0",
          "model_name": "FloatProgressModel",
          "state": {
            "_dom_classes": [],
            "_model_module": "@jupyter-widgets/controls",
            "_model_module_version": "1.5.0",
            "_model_name": "FloatProgressModel",
            "_view_count": null,
            "_view_module": "@jupyter-widgets/controls",
            "_view_module_version": "1.5.0",
            "_view_name": "ProgressView",
            "bar_style": "success",
            "description": "",
            "description_tooltip": null,
            "layout": "IPY_MODEL_db75096a8e414c98bcf664ee1fbabc57",
            "max": 47778,
            "min": 0,
            "orientation": "horizontal",
            "style": "IPY_MODEL_a252dacf793749a5bfba57a475d96bb5",
            "value": 47778
          }
        },
        "e90e67fe39ce4c5fa80fd10bf232a05b": {
          "model_module": "@jupyter-widgets/controls",
          "model_module_version": "1.5.0",
          "model_name": "FloatProgressModel",
          "state": {
            "_dom_classes": [],
            "_model_module": "@jupyter-widgets/controls",
            "_model_module_version": "1.5.0",
            "_model_name": "FloatProgressModel",
            "_view_count": null,
            "_view_module": "@jupyter-widgets/controls",
            "_view_module_version": "1.5.0",
            "_view_name": "ProgressView",
            "bar_style": "success",
            "description": "",
            "description_tooltip": null,
            "layout": "IPY_MODEL_088db1ba8e4b40d387d0d1149d980cd5",
            "max": 138014,
            "min": 0,
            "orientation": "horizontal",
            "style": "IPY_MODEL_c1dfe4e43e2747e597beb280f1c31e59",
            "value": 138014
          }
        },
        "ea721008ee1c486a9dda8a9e6a795ca1": {
          "model_module": "@jupyter-widgets/base",
          "model_module_version": "1.2.0",
          "model_name": "LayoutModel",
          "state": {
            "_model_module": "@jupyter-widgets/base",
            "_model_module_version": "1.2.0",
            "_model_name": "LayoutModel",
            "_view_count": null,
            "_view_module": "@jupyter-widgets/base",
            "_view_module_version": "1.2.0",
            "_view_name": "LayoutView",
            "align_content": null,
            "align_items": null,
            "align_self": null,
            "border": null,
            "bottom": null,
            "display": null,
            "flex": null,
            "flex_flow": null,
            "grid_area": null,
            "grid_auto_columns": null,
            "grid_auto_flow": null,
            "grid_auto_rows": null,
            "grid_column": null,
            "grid_gap": null,
            "grid_row": null,
            "grid_template_areas": null,
            "grid_template_columns": null,
            "grid_template_rows": null,
            "height": null,
            "justify_content": null,
            "justify_items": null,
            "left": null,
            "margin": null,
            "max_height": null,
            "max_width": null,
            "min_height": null,
            "min_width": null,
            "object_fit": null,
            "object_position": null,
            "order": null,
            "overflow": null,
            "overflow_x": null,
            "overflow_y": null,
            "padding": null,
            "right": null,
            "top": null,
            "visibility": null,
            "width": null
          }
        },
        "eb020e67cd9f4d95b4240b00f5ceef35": {
          "model_module": "@jupyter-widgets/controls",
          "model_module_version": "1.5.0",
          "model_name": "HBoxModel",
          "state": {
            "_dom_classes": [],
            "_model_module": "@jupyter-widgets/controls",
            "_model_module_version": "1.5.0",
            "_model_name": "HBoxModel",
            "_view_count": null,
            "_view_module": "@jupyter-widgets/controls",
            "_view_module_version": "1.5.0",
            "_view_name": "HBoxView",
            "box_style": "",
            "children": [
              "IPY_MODEL_6d9c01ace87a46ff9ff71aeb583c3ae9",
              "IPY_MODEL_5afccf0b132949afb6bcd7c765580cd3",
              "IPY_MODEL_b8766674d0b04722a4d07447cb19325a"
            ],
            "layout": "IPY_MODEL_c1f5c87efbb3424b800d1fc8435d2994"
          }
        },
        "ec0d29f137e94a1090492a8ea04fe002": {
          "model_module": "@jupyter-widgets/controls",
          "model_module_version": "1.5.0",
          "model_name": "ProgressStyleModel",
          "state": {
            "_model_module": "@jupyter-widgets/controls",
            "_model_module_version": "1.5.0",
            "_model_name": "ProgressStyleModel",
            "_view_count": null,
            "_view_module": "@jupyter-widgets/base",
            "_view_module_version": "1.2.0",
            "_view_name": "StyleView",
            "bar_color": null,
            "description_width": ""
          }
        },
        "f13de7dd9c05490fa52e3eadaa298883": {
          "model_module": "@jupyter-widgets/base",
          "model_module_version": "1.2.0",
          "model_name": "LayoutModel",
          "state": {
            "_model_module": "@jupyter-widgets/base",
            "_model_module_version": "1.2.0",
            "_model_name": "LayoutModel",
            "_view_count": null,
            "_view_module": "@jupyter-widgets/base",
            "_view_module_version": "1.2.0",
            "_view_name": "LayoutView",
            "align_content": null,
            "align_items": null,
            "align_self": null,
            "border": null,
            "bottom": null,
            "display": null,
            "flex": null,
            "flex_flow": null,
            "grid_area": null,
            "grid_auto_columns": null,
            "grid_auto_flow": null,
            "grid_auto_rows": null,
            "grid_column": null,
            "grid_gap": null,
            "grid_row": null,
            "grid_template_areas": null,
            "grid_template_columns": null,
            "grid_template_rows": null,
            "height": null,
            "justify_content": null,
            "justify_items": null,
            "left": null,
            "margin": null,
            "max_height": null,
            "max_width": null,
            "min_height": null,
            "min_width": null,
            "object_fit": null,
            "object_position": null,
            "order": null,
            "overflow": null,
            "overflow_x": null,
            "overflow_y": null,
            "padding": null,
            "right": null,
            "top": null,
            "visibility": null,
            "width": null
          }
        },
        "fb780b7ea7a34674b04f8a4f24d7f635": {
          "model_module": "@jupyter-widgets/base",
          "model_module_version": "1.2.0",
          "model_name": "LayoutModel",
          "state": {
            "_model_module": "@jupyter-widgets/base",
            "_model_module_version": "1.2.0",
            "_model_name": "LayoutModel",
            "_view_count": null,
            "_view_module": "@jupyter-widgets/base",
            "_view_module_version": "1.2.0",
            "_view_name": "LayoutView",
            "align_content": null,
            "align_items": null,
            "align_self": null,
            "border": null,
            "bottom": null,
            "display": null,
            "flex": null,
            "flex_flow": null,
            "grid_area": null,
            "grid_auto_columns": null,
            "grid_auto_flow": null,
            "grid_auto_rows": null,
            "grid_column": null,
            "grid_gap": null,
            "grid_row": null,
            "grid_template_areas": null,
            "grid_template_columns": null,
            "grid_template_rows": null,
            "height": null,
            "justify_content": null,
            "justify_items": null,
            "left": null,
            "margin": null,
            "max_height": null,
            "max_width": null,
            "min_height": null,
            "min_width": null,
            "object_fit": null,
            "object_position": null,
            "order": null,
            "overflow": null,
            "overflow_x": null,
            "overflow_y": null,
            "padding": null,
            "right": null,
            "top": null,
            "visibility": null,
            "width": null
          }
        },
        "fd3b91e38a0849048b39037c2622ce52": {
          "model_module": "@jupyter-widgets/controls",
          "model_module_version": "1.5.0",
          "model_name": "HTMLModel",
          "state": {
            "_dom_classes": [],
            "_model_module": "@jupyter-widgets/controls",
            "_model_module_version": "1.5.0",
            "_model_name": "HTMLModel",
            "_view_count": null,
            "_view_module": "@jupyter-widgets/controls",
            "_view_module_version": "1.5.0",
            "_view_name": "HTMLView",
            "description": "",
            "description_tooltip": null,
            "layout": "IPY_MODEL_d42a38aea7c04976a9c75728b409ab13",
            "placeholder": "​",
            "style": "IPY_MODEL_5ff5fc5a28624285b2b7b4b6b0b2e157",
            "value": " 47.8k/47.8k [00:00&lt;00:00, 1.23MB/s]"
          }
        }
      }
    }
  },
  "nbformat": 4,
  "nbformat_minor": 0
}